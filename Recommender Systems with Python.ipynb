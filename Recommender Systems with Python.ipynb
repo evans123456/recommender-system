{
 "cells": [
  {
   "cell_type": "markdown",
   "metadata": {
    "id": "d-Z_CIMiUfY-"
   },
   "source": [
    "\n",
    "___\n",
    "# Recommender Systems with Python\n",
    "\n",
    "Welcome to the code notebook for Recommender Systems with Python. In this lecture we will develop basic recommendation systems using Python and pandas.\n",
    "\n",
    "In this notebook, we will focus on providing a basic recommendation system by suggesting items that are most similar to a particular item, in this case, movies. Keep in mind, this is not a true robust recommendation system, to describe it more accurately,it just tells you what movies/items are most similar to your movie choice.\n",
    "\n",
    "There is no project for this topic, instead you have the option to work through the advanced lecture version of this notebook (totally optional!).\n",
    "\n",
    "Let's get started!\n",
    "\n",
    "## Import Libraries"
   ]
  },
  {
   "cell_type": "code",
   "execution_count": 4,
   "metadata": {},
   "outputs": [
    {
     "name": "stdout",
     "output_type": "stream",
     "text": [
      "Requirement already satisfied: missingno in c:\\programdata\\anaconda3\\lib\\site-packages (0.5.0)\n",
      "Requirement already satisfied: numpy in c:\\programdata\\anaconda3\\lib\\site-packages (from missingno) (1.20.1)\n",
      "Requirement already satisfied: seaborn in c:\\programdata\\anaconda3\\lib\\site-packages (from missingno) (0.11.1)\n",
      "Requirement already satisfied: scipy in c:\\programdata\\anaconda3\\lib\\site-packages (from missingno) (1.6.2)\n",
      "Requirement already satisfied: matplotlib in c:\\programdata\\anaconda3\\lib\\site-packages (from missingno) (3.3.4)\n",
      "Requirement already satisfied: kiwisolver>=1.0.1 in c:\\programdata\\anaconda3\\lib\\site-packages (from matplotlib->missingno) (1.3.1)\n",
      "Requirement already satisfied: pyparsing!=2.0.4,!=2.1.2,!=2.1.6,>=2.0.3 in c:\\programdata\\anaconda3\\lib\\site-packages (from matplotlib->missingno) (2.4.7)\n",
      "Requirement already satisfied: cycler>=0.10 in c:\\programdata\\anaconda3\\lib\\site-packages (from matplotlib->missingno) (0.10.0)\n",
      "Requirement already satisfied: pillow>=6.2.0 in c:\\programdata\\anaconda3\\lib\\site-packages (from matplotlib->missingno) (8.2.0)\n",
      "Requirement already satisfied: python-dateutil>=2.1 in c:\\programdata\\anaconda3\\lib\\site-packages (from matplotlib->missingno) (2.8.1)\n",
      "Requirement already satisfied: six in c:\\programdata\\anaconda3\\lib\\site-packages (from cycler>=0.10->matplotlib->missingno) (1.15.0)\n",
      "Requirement already satisfied: pandas>=0.23 in c:\\programdata\\anaconda3\\lib\\site-packages (from seaborn->missingno) (1.2.4)\n",
      "Requirement already satisfied: pytz>=2017.3 in c:\\programdata\\anaconda3\\lib\\site-packages (from pandas>=0.23->seaborn->missingno) (2021.1)\n"
     ]
    }
   ],
   "source": [
    "!pip install missingno\n"
   ]
  },
  {
   "cell_type": "code",
   "execution_count": 93,
   "metadata": {},
   "outputs": [],
   "source": [
    "import warnings\n",
    "warnings.filterwarnings('ignore')"
   ]
  },
  {
   "cell_type": "code",
   "execution_count": 6,
   "metadata": {
    "executionInfo": {
     "elapsed": 215,
     "status": "ok",
     "timestamp": 1645291279641,
     "user": {
      "displayName": "Evans Wahome",
      "photoUrl": "https://lh3.googleusercontent.com/a-/AOh14GgtGQy5zpZyCNAdthevqEvgwq2X6Md3SBA7TJwkaZw=s64",
      "userId": "07110523678777241001"
     },
     "user_tz": 0
    },
    "id": "cHly3A63UfZC"
   },
   "outputs": [],
   "source": [
    "import numpy as np\n",
    "import pandas as pd\n",
    "import matplotlib.pyplot as plt\n",
    "\n",
    "# !pip install missingno\n",
    "\n",
    "# import missingno as msno"
   ]
  },
  {
   "cell_type": "markdown",
   "metadata": {
    "id": "8HEwSliLUfZD"
   },
   "source": [
    "## Get the Data"
   ]
  },
  {
   "cell_type": "code",
   "execution_count": 2,
   "metadata": {
    "colab": {
     "base_uri": "https://localhost:8080/"
    },
    "executionInfo": {
     "elapsed": 2026,
     "status": "ok",
     "timestamp": 1645291206313,
     "user": {
      "displayName": "Evans Wahome",
      "photoUrl": "https://lh3.googleusercontent.com/a-/AOh14GgtGQy5zpZyCNAdthevqEvgwq2X6Md3SBA7TJwkaZw=s64",
      "userId": "07110523678777241001"
     },
     "user_tz": 0
    },
    "id": "b1dIc3lsrtAA",
    "outputId": "51b01ce3-4b10-41d3-bb95-e604efac104b"
   },
   "outputs": [
    {
     "name": "stdout",
     "output_type": "stream",
     "text": [
      "Drive already mounted at /content/drive; to attempt to forcibly remount, call drive.mount(\"/content/drive\", force_remount=True).\n"
     ]
    }
   ],
   "source": [
    "# from google.colab import drive\n",
    "\n",
    "# drive.mount(\"/content/drive\")"
   ]
  },
  {
   "cell_type": "code",
   "execution_count": 3,
   "metadata": {
    "executionInfo": {
     "elapsed": 4358,
     "status": "ok",
     "timestamp": 1645291215789,
     "user": {
      "displayName": "Evans Wahome",
      "photoUrl": "https://lh3.googleusercontent.com/a-/AOh14GgtGQy5zpZyCNAdthevqEvgwq2X6Md3SBA7TJwkaZw=s64",
      "userId": "07110523678777241001"
     },
     "user_tz": 0
    },
    "id": "ofOzP1lhr9ai"
   },
   "outputs": [],
   "source": [
    "# !pip install -U -q PyDrive\n",
    "# from pydrive.auth import GoogleAuth\n",
    "# from pydrive.drive import GoogleDrive\n",
    "# from google.colab import auth\n",
    "# from oauth2client.client import GoogleCredentials\n",
    "# # Authenticate and create the PyDrive client.\n",
    "# auth.authenticate_user()\n",
    "# gauth = GoogleAuth()\n",
    "# gauth.credentials = GoogleCredentials.get_application_default()\n",
    "# drive = GoogleDrive(gauth)"
   ]
  },
  {
   "cell_type": "code",
   "execution_count": 33,
   "metadata": {
    "colab": {
     "base_uri": "https://localhost:8080/",
     "height": 419
    },
    "executionInfo": {
     "elapsed": 29334,
     "status": "ok",
     "timestamp": 1645291245112,
     "user": {
      "displayName": "Evans Wahome",
      "photoUrl": "https://lh3.googleusercontent.com/a-/AOh14GgtGQy5zpZyCNAdthevqEvgwq2X6Md3SBA7TJwkaZw=s64",
      "userId": "07110523678777241001"
     },
     "user_tz": 0
    },
    "id": "dU4Mox5PUfZD",
    "outputId": "a9efdbdd-bd8d-49ba-838c-4bbe1c1c8c02"
   },
   "outputs": [
    {
     "data": {
      "text/html": [
       "<div>\n",
       "<style scoped>\n",
       "    .dataframe tbody tr th:only-of-type {\n",
       "        vertical-align: middle;\n",
       "    }\n",
       "\n",
       "    .dataframe tbody tr th {\n",
       "        vertical-align: top;\n",
       "    }\n",
       "\n",
       "    .dataframe thead th {\n",
       "        text-align: right;\n",
       "    }\n",
       "</style>\n",
       "<table border=\"1\" class=\"dataframe\">\n",
       "  <thead>\n",
       "    <tr style=\"text-align: right;\">\n",
       "      <th></th>\n",
       "      <th>userId</th>\n",
       "      <th>movieId</th>\n",
       "      <th>rating</th>\n",
       "      <th>timestamp</th>\n",
       "    </tr>\n",
       "  </thead>\n",
       "  <tbody>\n",
       "    <tr>\n",
       "      <th>0</th>\n",
       "      <td>1</td>\n",
       "      <td>31</td>\n",
       "      <td>2.5</td>\n",
       "      <td>1260759144</td>\n",
       "    </tr>\n",
       "    <tr>\n",
       "      <th>1</th>\n",
       "      <td>1</td>\n",
       "      <td>1029</td>\n",
       "      <td>3.0</td>\n",
       "      <td>1260759179</td>\n",
       "    </tr>\n",
       "    <tr>\n",
       "      <th>2</th>\n",
       "      <td>1</td>\n",
       "      <td>1061</td>\n",
       "      <td>3.0</td>\n",
       "      <td>1260759182</td>\n",
       "    </tr>\n",
       "    <tr>\n",
       "      <th>3</th>\n",
       "      <td>1</td>\n",
       "      <td>1129</td>\n",
       "      <td>2.0</td>\n",
       "      <td>1260759185</td>\n",
       "    </tr>\n",
       "    <tr>\n",
       "      <th>4</th>\n",
       "      <td>1</td>\n",
       "      <td>1172</td>\n",
       "      <td>4.0</td>\n",
       "      <td>1260759205</td>\n",
       "    </tr>\n",
       "    <tr>\n",
       "      <th>...</th>\n",
       "      <td>...</td>\n",
       "      <td>...</td>\n",
       "      <td>...</td>\n",
       "      <td>...</td>\n",
       "    </tr>\n",
       "    <tr>\n",
       "      <th>99999</th>\n",
       "      <td>671</td>\n",
       "      <td>6268</td>\n",
       "      <td>2.5</td>\n",
       "      <td>1065579370</td>\n",
       "    </tr>\n",
       "    <tr>\n",
       "      <th>100000</th>\n",
       "      <td>671</td>\n",
       "      <td>6269</td>\n",
       "      <td>4.0</td>\n",
       "      <td>1065149201</td>\n",
       "    </tr>\n",
       "    <tr>\n",
       "      <th>100001</th>\n",
       "      <td>671</td>\n",
       "      <td>6365</td>\n",
       "      <td>4.0</td>\n",
       "      <td>1070940363</td>\n",
       "    </tr>\n",
       "    <tr>\n",
       "      <th>100002</th>\n",
       "      <td>671</td>\n",
       "      <td>6385</td>\n",
       "      <td>2.5</td>\n",
       "      <td>1070979663</td>\n",
       "    </tr>\n",
       "    <tr>\n",
       "      <th>100003</th>\n",
       "      <td>671</td>\n",
       "      <td>6565</td>\n",
       "      <td>3.5</td>\n",
       "      <td>1074784724</td>\n",
       "    </tr>\n",
       "  </tbody>\n",
       "</table>\n",
       "<p>100004 rows × 4 columns</p>\n",
       "</div>"
      ],
      "text/plain": [
       "        userId  movieId  rating   timestamp\n",
       "0            1       31     2.5  1260759144\n",
       "1            1     1029     3.0  1260759179\n",
       "2            1     1061     3.0  1260759182\n",
       "3            1     1129     2.0  1260759185\n",
       "4            1     1172     4.0  1260759205\n",
       "...        ...      ...     ...         ...\n",
       "99999      671     6268     2.5  1065579370\n",
       "100000     671     6269     4.0  1065149201\n",
       "100001     671     6365     4.0  1070940363\n",
       "100002     671     6385     2.5  1070979663\n",
       "100003     671     6565     3.5  1074784724\n",
       "\n",
       "[100004 rows x 4 columns]"
      ]
     },
     "execution_count": 33,
     "metadata": {},
     "output_type": "execute_result"
    }
   ],
   "source": [
    "# column_names = ['user_id', 'item_id', 'rating', 'timestamp']\n",
    "\n",
    "# ratings\n",
    "# df = pd.read_csv('/content/drive/MyDrive/Colab Notebooks/Movie-Recommender-in-python-master/u.data', sep='\\t', names=column_names)\n",
    "\n",
    "df = pd.read_csv('./data/ratings_small.csv')\n",
    "df"
   ]
  },
  {
   "cell_type": "code",
   "execution_count": 34,
   "metadata": {
    "colab": {
     "base_uri": "https://localhost:8080/",
     "height": 204
    },
    "executionInfo": {
     "elapsed": 373,
     "status": "ok",
     "timestamp": 1645291248994,
     "user": {
      "displayName": "Evans Wahome",
      "photoUrl": "https://lh3.googleusercontent.com/a-/AOh14GgtGQy5zpZyCNAdthevqEvgwq2X6Md3SBA7TJwkaZw=s64",
      "userId": "07110523678777241001"
     },
     "user_tz": 0
    },
    "id": "j_SYyAkTUfZE",
    "outputId": "f0ec635d-a0f7-46e9-c02d-0fc28db08fd4"
   },
   "outputs": [
    {
     "data": {
      "text/html": [
       "<div>\n",
       "<style scoped>\n",
       "    .dataframe tbody tr th:only-of-type {\n",
       "        vertical-align: middle;\n",
       "    }\n",
       "\n",
       "    .dataframe tbody tr th {\n",
       "        vertical-align: top;\n",
       "    }\n",
       "\n",
       "    .dataframe thead th {\n",
       "        text-align: right;\n",
       "    }\n",
       "</style>\n",
       "<table border=\"1\" class=\"dataframe\">\n",
       "  <thead>\n",
       "    <tr style=\"text-align: right;\">\n",
       "      <th></th>\n",
       "      <th>userId</th>\n",
       "      <th>movieId</th>\n",
       "      <th>rating</th>\n",
       "      <th>timestamp</th>\n",
       "    </tr>\n",
       "  </thead>\n",
       "  <tbody>\n",
       "    <tr>\n",
       "      <th>0</th>\n",
       "      <td>1</td>\n",
       "      <td>31</td>\n",
       "      <td>2.5</td>\n",
       "      <td>1260759144</td>\n",
       "    </tr>\n",
       "    <tr>\n",
       "      <th>1</th>\n",
       "      <td>1</td>\n",
       "      <td>1029</td>\n",
       "      <td>3.0</td>\n",
       "      <td>1260759179</td>\n",
       "    </tr>\n",
       "    <tr>\n",
       "      <th>2</th>\n",
       "      <td>1</td>\n",
       "      <td>1061</td>\n",
       "      <td>3.0</td>\n",
       "      <td>1260759182</td>\n",
       "    </tr>\n",
       "    <tr>\n",
       "      <th>3</th>\n",
       "      <td>1</td>\n",
       "      <td>1129</td>\n",
       "      <td>2.0</td>\n",
       "      <td>1260759185</td>\n",
       "    </tr>\n",
       "    <tr>\n",
       "      <th>4</th>\n",
       "      <td>1</td>\n",
       "      <td>1172</td>\n",
       "      <td>4.0</td>\n",
       "      <td>1260759205</td>\n",
       "    </tr>\n",
       "  </tbody>\n",
       "</table>\n",
       "</div>"
      ],
      "text/plain": [
       "   userId  movieId  rating   timestamp\n",
       "0       1       31     2.5  1260759144\n",
       "1       1     1029     3.0  1260759179\n",
       "2       1     1061     3.0  1260759182\n",
       "3       1     1129     2.0  1260759185\n",
       "4       1     1172     4.0  1260759205"
      ]
     },
     "execution_count": 34,
     "metadata": {},
     "output_type": "execute_result"
    }
   ],
   "source": [
    "df.head()"
   ]
  },
  {
   "cell_type": "markdown",
   "metadata": {
    "id": "co1NNfkZUfZF"
   },
   "source": [
    "Now let's get the movie titles:"
   ]
  },
  {
   "cell_type": "code",
   "execution_count": 35,
   "metadata": {
    "colab": {
     "base_uri": "https://localhost:8080/",
     "height": 258
    },
    "executionInfo": {
     "elapsed": 1938,
     "status": "ok",
     "timestamp": 1645291251916,
     "user": {
      "displayName": "Evans Wahome",
      "photoUrl": "https://lh3.googleusercontent.com/a-/AOh14GgtGQy5zpZyCNAdthevqEvgwq2X6Md3SBA7TJwkaZw=s64",
      "userId": "07110523678777241001"
     },
     "user_tz": 0
    },
    "id": "IPtCcF9dUfZF",
    "outputId": "a04e8b04-c387-41c2-b825-9534a73d66ee"
   },
   "outputs": [
    {
     "name": "stderr",
     "output_type": "stream",
     "text": [
      "C:\\ProgramData\\Anaconda3\\lib\\site-packages\\IPython\\core\\interactiveshell.py:3165: DtypeWarning: Columns (10) have mixed types.Specify dtype option on import or set low_memory=False.\n",
      "  has_raised = await self.run_ast_nodes(code_ast.body, cell_name,\n"
     ]
    },
    {
     "data": {
      "text/html": [
       "<div>\n",
       "<style scoped>\n",
       "    .dataframe tbody tr th:only-of-type {\n",
       "        vertical-align: middle;\n",
       "    }\n",
       "\n",
       "    .dataframe tbody tr th {\n",
       "        vertical-align: top;\n",
       "    }\n",
       "\n",
       "    .dataframe thead th {\n",
       "        text-align: right;\n",
       "    }\n",
       "</style>\n",
       "<table border=\"1\" class=\"dataframe\">\n",
       "  <thead>\n",
       "    <tr style=\"text-align: right;\">\n",
       "      <th></th>\n",
       "      <th>movieId</th>\n",
       "      <th>title</th>\n",
       "    </tr>\n",
       "  </thead>\n",
       "  <tbody>\n",
       "    <tr>\n",
       "      <th>0</th>\n",
       "      <td>862</td>\n",
       "      <td>Toy Story</td>\n",
       "    </tr>\n",
       "    <tr>\n",
       "      <th>1</th>\n",
       "      <td>8844</td>\n",
       "      <td>Jumanji</td>\n",
       "    </tr>\n",
       "    <tr>\n",
       "      <th>2</th>\n",
       "      <td>15602</td>\n",
       "      <td>Grumpier Old Men</td>\n",
       "    </tr>\n",
       "    <tr>\n",
       "      <th>3</th>\n",
       "      <td>31357</td>\n",
       "      <td>Waiting to Exhale</td>\n",
       "    </tr>\n",
       "    <tr>\n",
       "      <th>4</th>\n",
       "      <td>11862</td>\n",
       "      <td>Father of the Bride Part II</td>\n",
       "    </tr>\n",
       "  </tbody>\n",
       "</table>\n",
       "</div>"
      ],
      "text/plain": [
       "  movieId                        title\n",
       "0     862                    Toy Story\n",
       "1    8844                      Jumanji\n",
       "2   15602             Grumpier Old Men\n",
       "3   31357            Waiting to Exhale\n",
       "4   11862  Father of the Bride Part II"
      ]
     },
     "execution_count": 35,
     "metadata": {},
     "output_type": "execute_result"
    }
   ],
   "source": [
    "# movies_metadata\n",
    "movie_titles = pd.read_csv('./data/movies_metadata.csv')\n",
    "# movie_titles.drop([\"belongs_to_collection\",\"budget\",\"genres\",\"homepage\"\t])\n",
    "# movie_titles = pd.read_csv(\"/content/drive/MyDrive/Colab Notebooks/Movie-Recommender-in-python-master/Movie_Id_Titles\")\n",
    "\n",
    "movie_titles = movie_titles[[\"id\",\"original_title\"]]\n",
    "# movie_titles = pd.DataFrame(movie_titles,columns=[\"movieId\",\"title\"])\n",
    "movie_titles.columns=[\"movieId\",\"title\"]\n",
    "movie_titles.head()\n",
    "# item_id\ttitle"
   ]
  },
  {
   "cell_type": "code",
   "execution_count": 36,
   "metadata": {
    "colab": {
     "base_uri": "https://localhost:8080/",
     "height": 572
    },
    "executionInfo": {
     "elapsed": 699,
     "status": "ok",
     "timestamp": 1645291285756,
     "user": {
      "displayName": "Evans Wahome",
      "photoUrl": "https://lh3.googleusercontent.com/a-/AOh14GgtGQy5zpZyCNAdthevqEvgwq2X6Md3SBA7TJwkaZw=s64",
      "userId": "07110523678777241001"
     },
     "user_tz": 0
    },
    "id": "1tjWOKYK6HE4",
    "outputId": "d1da211b-d002-4a4e-bdb6-e92faed9355a"
   },
   "outputs": [],
   "source": [
    "# msno.bar(movie_titles)\n",
    "# plt.title(\"Missing values before dropping\")\n",
    "# plt.show()"
   ]
  },
  {
   "cell_type": "code",
   "execution_count": 37,
   "metadata": {
    "colab": {
     "base_uri": "https://localhost:8080/",
     "height": 419
    },
    "executionInfo": {
     "elapsed": 229,
     "status": "ok",
     "timestamp": 1645291287062,
     "user": {
      "displayName": "Evans Wahome",
      "photoUrl": "https://lh3.googleusercontent.com/a-/AOh14GgtGQy5zpZyCNAdthevqEvgwq2X6Md3SBA7TJwkaZw=s64",
      "userId": "07110523678777241001"
     },
     "user_tz": 0
    },
    "id": "MdxkfNvG2RjM",
    "outputId": "7ba0a2f8-49b5-4053-f25e-520cb366b5dc"
   },
   "outputs": [
    {
     "data": {
      "text/html": [
       "<div>\n",
       "<style scoped>\n",
       "    .dataframe tbody tr th:only-of-type {\n",
       "        vertical-align: middle;\n",
       "    }\n",
       "\n",
       "    .dataframe tbody tr th {\n",
       "        vertical-align: top;\n",
       "    }\n",
       "\n",
       "    .dataframe thead th {\n",
       "        text-align: right;\n",
       "    }\n",
       "</style>\n",
       "<table border=\"1\" class=\"dataframe\">\n",
       "  <thead>\n",
       "    <tr style=\"text-align: right;\">\n",
       "      <th></th>\n",
       "      <th>movieId</th>\n",
       "      <th>title</th>\n",
       "    </tr>\n",
       "  </thead>\n",
       "  <tbody>\n",
       "    <tr>\n",
       "      <th>0</th>\n",
       "      <td>862</td>\n",
       "      <td>Toy Story</td>\n",
       "    </tr>\n",
       "    <tr>\n",
       "      <th>1</th>\n",
       "      <td>8844</td>\n",
       "      <td>Jumanji</td>\n",
       "    </tr>\n",
       "    <tr>\n",
       "      <th>2</th>\n",
       "      <td>15602</td>\n",
       "      <td>Grumpier Old Men</td>\n",
       "    </tr>\n",
       "    <tr>\n",
       "      <th>3</th>\n",
       "      <td>31357</td>\n",
       "      <td>Waiting to Exhale</td>\n",
       "    </tr>\n",
       "    <tr>\n",
       "      <th>4</th>\n",
       "      <td>11862</td>\n",
       "      <td>Father of the Bride Part II</td>\n",
       "    </tr>\n",
       "    <tr>\n",
       "      <th>...</th>\n",
       "      <td>...</td>\n",
       "      <td>...</td>\n",
       "    </tr>\n",
       "    <tr>\n",
       "      <th>45461</th>\n",
       "      <td>439050</td>\n",
       "      <td>رگ خواب</td>\n",
       "    </tr>\n",
       "    <tr>\n",
       "      <th>45462</th>\n",
       "      <td>111109</td>\n",
       "      <td>Siglo ng Pagluluwal</td>\n",
       "    </tr>\n",
       "    <tr>\n",
       "      <th>45463</th>\n",
       "      <td>67758</td>\n",
       "      <td>Betrayal</td>\n",
       "    </tr>\n",
       "    <tr>\n",
       "      <th>45464</th>\n",
       "      <td>227506</td>\n",
       "      <td>Satana likuyushchiy</td>\n",
       "    </tr>\n",
       "    <tr>\n",
       "      <th>45465</th>\n",
       "      <td>461257</td>\n",
       "      <td>Queerama</td>\n",
       "    </tr>\n",
       "  </tbody>\n",
       "</table>\n",
       "<p>45466 rows × 2 columns</p>\n",
       "</div>"
      ],
      "text/plain": [
       "      movieId                        title\n",
       "0         862                    Toy Story\n",
       "1        8844                      Jumanji\n",
       "2       15602             Grumpier Old Men\n",
       "3       31357            Waiting to Exhale\n",
       "4       11862  Father of the Bride Part II\n",
       "...       ...                          ...\n",
       "45461  439050                      رگ خواب\n",
       "45462  111109          Siglo ng Pagluluwal\n",
       "45463   67758                     Betrayal\n",
       "45464  227506          Satana likuyushchiy\n",
       "45465  461257                     Queerama\n",
       "\n",
       "[45466 rows x 2 columns]"
      ]
     },
     "execution_count": 37,
     "metadata": {},
     "output_type": "execute_result"
    }
   ],
   "source": [
    "# movie_titles = movie_titles.dropna(subset=['movieId'])\n",
    "movie_titles =pd.DataFrame(movie_titles.dropna())\n",
    "movie_titles"
   ]
  },
  {
   "cell_type": "code",
   "execution_count": 38,
   "metadata": {
    "colab": {
     "base_uri": "https://localhost:8080/",
     "height": 572
    },
    "executionInfo": {
     "elapsed": 830,
     "status": "ok",
     "timestamp": 1645291288816,
     "user": {
      "displayName": "Evans Wahome",
      "photoUrl": "https://lh3.googleusercontent.com/a-/AOh14GgtGQy5zpZyCNAdthevqEvgwq2X6Md3SBA7TJwkaZw=s64",
      "userId": "07110523678777241001"
     },
     "user_tz": 0
    },
    "id": "qO1ItiXJ5laC",
    "outputId": "085d343c-d253-47c2-bca0-eed63c273d77"
   },
   "outputs": [],
   "source": [
    "# msno.bar(movie_titles)\n",
    "# plt.title(\"Missing values after\")\n",
    "# plt.show()"
   ]
  },
  {
   "cell_type": "code",
   "execution_count": null,
   "metadata": {
    "executionInfo": {
     "elapsed": 8,
     "status": "ok",
     "timestamp": 1645291289621,
     "user": {
      "displayName": "Evans Wahome",
      "photoUrl": "https://lh3.googleusercontent.com/a-/AOh14GgtGQy5zpZyCNAdthevqEvgwq2X6Md3SBA7TJwkaZw=s64",
      "userId": "07110523678777241001"
     },
     "user_tz": 0
    },
    "id": "UZlCWaB_5lm4"
   },
   "outputs": [],
   "source": []
  },
  {
   "cell_type": "code",
   "execution_count": 39,
   "metadata": {
    "executionInfo": {
     "elapsed": 7,
     "status": "ok",
     "timestamp": 1645291290561,
     "user": {
      "displayName": "Evans Wahome",
      "photoUrl": "https://lh3.googleusercontent.com/a-/AOh14GgtGQy5zpZyCNAdthevqEvgwq2X6Md3SBA7TJwkaZw=s64",
      "userId": "07110523678777241001"
     },
     "user_tz": 0
    },
    "id": "oUdIRPo67hiC"
   },
   "outputs": [],
   "source": [
    "\n",
    "# movie_titles[movie_titles['movieId'].str.contains('1997-08-20')]\n",
    "movie_titles = movie_titles[pd.to_numeric(movie_titles['movieId'], errors='coerce').notnull()]"
   ]
  },
  {
   "cell_type": "code",
   "execution_count": 40,
   "metadata": {
    "colab": {
     "base_uri": "https://localhost:8080/"
    },
    "executionInfo": {
     "elapsed": 15,
     "status": "ok",
     "timestamp": 1645291291722,
     "user": {
      "displayName": "Evans Wahome",
      "photoUrl": "https://lh3.googleusercontent.com/a-/AOh14GgtGQy5zpZyCNAdthevqEvgwq2X6Md3SBA7TJwkaZw=s64",
      "userId": "07110523678777241001"
     },
     "user_tz": 0
    },
    "id": "Ew8O_-ct1xJ_",
    "outputId": "4a6d19e2-92ef-4acf-edf2-7f12ff32f2ba"
   },
   "outputs": [
    {
     "name": "stderr",
     "output_type": "stream",
     "text": [
      "<ipython-input-40-5b8a3357a155>:2: SettingWithCopyWarning: \n",
      "A value is trying to be set on a copy of a slice from a DataFrame.\n",
      "Try using .loc[row_indexer,col_indexer] = value instead\n",
      "\n",
      "See the caveats in the documentation: https://pandas.pydata.org/pandas-docs/stable/user_guide/indexing.html#returning-a-view-versus-a-copy\n",
      "  movie_titles['movieId'] = movie_titles['movieId'].astype(int)\n"
     ]
    }
   ],
   "source": [
    "# movie_titles[\"movieId\"].apply(lambda s: np.int64(s))\n",
    "movie_titles['movieId'] = movie_titles['movieId'].astype(int)"
   ]
  },
  {
   "cell_type": "code",
   "execution_count": 41,
   "metadata": {
    "colab": {
     "base_uri": "https://localhost:8080/"
    },
    "executionInfo": {
     "elapsed": 8,
     "status": "ok",
     "timestamp": 1645291292632,
     "user": {
      "displayName": "Evans Wahome",
      "photoUrl": "https://lh3.googleusercontent.com/a-/AOh14GgtGQy5zpZyCNAdthevqEvgwq2X6Md3SBA7TJwkaZw=s64",
      "userId": "07110523678777241001"
     },
     "user_tz": 0
    },
    "id": "LIquDYoT0ulG",
    "outputId": "b488cf12-84ec-49ca-c461-444523befe5a"
   },
   "outputs": [
    {
     "data": {
      "text/plain": [
       "numpy.int64"
      ]
     },
     "execution_count": 41,
     "metadata": {},
     "output_type": "execute_result"
    }
   ],
   "source": [
    "type(df[\"movieId\"][0])"
   ]
  },
  {
   "cell_type": "code",
   "execution_count": 42,
   "metadata": {
    "colab": {
     "base_uri": "https://localhost:8080/"
    },
    "executionInfo": {
     "elapsed": 10,
     "status": "ok",
     "timestamp": 1645291293593,
     "user": {
      "displayName": "Evans Wahome",
      "photoUrl": "https://lh3.googleusercontent.com/a-/AOh14GgtGQy5zpZyCNAdthevqEvgwq2X6Md3SBA7TJwkaZw=s64",
      "userId": "07110523678777241001"
     },
     "user_tz": 0
    },
    "id": "7xGQIp1N9igL",
    "outputId": "dedd76fc-8541-4900-8180-410cf95caa0c"
   },
   "outputs": [
    {
     "data": {
      "text/plain": [
       "numpy.int32"
      ]
     },
     "execution_count": 42,
     "metadata": {},
     "output_type": "execute_result"
    }
   ],
   "source": [
    "type(movie_titles[\"movieId\"][0])"
   ]
  },
  {
   "cell_type": "code",
   "execution_count": 43,
   "metadata": {
    "colab": {
     "base_uri": "https://localhost:8080/",
     "height": 419
    },
    "executionInfo": {
     "elapsed": 218,
     "status": "ok",
     "timestamp": 1645291295878,
     "user": {
      "displayName": "Evans Wahome",
      "photoUrl": "https://lh3.googleusercontent.com/a-/AOh14GgtGQy5zpZyCNAdthevqEvgwq2X6Md3SBA7TJwkaZw=s64",
      "userId": "07110523678777241001"
     },
     "user_tz": 0
    },
    "id": "sSQD7RxszBd_",
    "outputId": "cf908b01-fa88-4421-f29c-29302abafadd"
   },
   "outputs": [
    {
     "data": {
      "text/html": [
       "<div>\n",
       "<style scoped>\n",
       "    .dataframe tbody tr th:only-of-type {\n",
       "        vertical-align: middle;\n",
       "    }\n",
       "\n",
       "    .dataframe tbody tr th {\n",
       "        vertical-align: top;\n",
       "    }\n",
       "\n",
       "    .dataframe thead th {\n",
       "        text-align: right;\n",
       "    }\n",
       "</style>\n",
       "<table border=\"1\" class=\"dataframe\">\n",
       "  <thead>\n",
       "    <tr style=\"text-align: right;\">\n",
       "      <th></th>\n",
       "      <th>userId</th>\n",
       "      <th>movieId</th>\n",
       "      <th>rating</th>\n",
       "      <th>timestamp</th>\n",
       "    </tr>\n",
       "  </thead>\n",
       "  <tbody>\n",
       "    <tr>\n",
       "      <th>0</th>\n",
       "      <td>1</td>\n",
       "      <td>31</td>\n",
       "      <td>2.5</td>\n",
       "      <td>1260759144</td>\n",
       "    </tr>\n",
       "    <tr>\n",
       "      <th>1</th>\n",
       "      <td>1</td>\n",
       "      <td>1029</td>\n",
       "      <td>3.0</td>\n",
       "      <td>1260759179</td>\n",
       "    </tr>\n",
       "    <tr>\n",
       "      <th>2</th>\n",
       "      <td>1</td>\n",
       "      <td>1061</td>\n",
       "      <td>3.0</td>\n",
       "      <td>1260759182</td>\n",
       "    </tr>\n",
       "    <tr>\n",
       "      <th>3</th>\n",
       "      <td>1</td>\n",
       "      <td>1129</td>\n",
       "      <td>2.0</td>\n",
       "      <td>1260759185</td>\n",
       "    </tr>\n",
       "    <tr>\n",
       "      <th>4</th>\n",
       "      <td>1</td>\n",
       "      <td>1172</td>\n",
       "      <td>4.0</td>\n",
       "      <td>1260759205</td>\n",
       "    </tr>\n",
       "    <tr>\n",
       "      <th>...</th>\n",
       "      <td>...</td>\n",
       "      <td>...</td>\n",
       "      <td>...</td>\n",
       "      <td>...</td>\n",
       "    </tr>\n",
       "    <tr>\n",
       "      <th>99999</th>\n",
       "      <td>671</td>\n",
       "      <td>6268</td>\n",
       "      <td>2.5</td>\n",
       "      <td>1065579370</td>\n",
       "    </tr>\n",
       "    <tr>\n",
       "      <th>100000</th>\n",
       "      <td>671</td>\n",
       "      <td>6269</td>\n",
       "      <td>4.0</td>\n",
       "      <td>1065149201</td>\n",
       "    </tr>\n",
       "    <tr>\n",
       "      <th>100001</th>\n",
       "      <td>671</td>\n",
       "      <td>6365</td>\n",
       "      <td>4.0</td>\n",
       "      <td>1070940363</td>\n",
       "    </tr>\n",
       "    <tr>\n",
       "      <th>100002</th>\n",
       "      <td>671</td>\n",
       "      <td>6385</td>\n",
       "      <td>2.5</td>\n",
       "      <td>1070979663</td>\n",
       "    </tr>\n",
       "    <tr>\n",
       "      <th>100003</th>\n",
       "      <td>671</td>\n",
       "      <td>6565</td>\n",
       "      <td>3.5</td>\n",
       "      <td>1074784724</td>\n",
       "    </tr>\n",
       "  </tbody>\n",
       "</table>\n",
       "<p>100004 rows × 4 columns</p>\n",
       "</div>"
      ],
      "text/plain": [
       "        userId  movieId  rating   timestamp\n",
       "0            1       31     2.5  1260759144\n",
       "1            1     1029     3.0  1260759179\n",
       "2            1     1061     3.0  1260759182\n",
       "3            1     1129     2.0  1260759185\n",
       "4            1     1172     4.0  1260759205\n",
       "...        ...      ...     ...         ...\n",
       "99999      671     6268     2.5  1065579370\n",
       "100000     671     6269     4.0  1065149201\n",
       "100001     671     6365     4.0  1070940363\n",
       "100002     671     6385     2.5  1070979663\n",
       "100003     671     6565     3.5  1074784724\n",
       "\n",
       "[100004 rows x 4 columns]"
      ]
     },
     "execution_count": 43,
     "metadata": {},
     "output_type": "execute_result"
    }
   ],
   "source": [
    "df"
   ]
  },
  {
   "cell_type": "markdown",
   "metadata": {
    "id": "VOe4FVnCUfZG"
   },
   "source": [
    "We can merge them together:"
   ]
  },
  {
   "cell_type": "code",
   "execution_count": 44,
   "metadata": {
    "colab": {
     "base_uri": "https://localhost:8080/",
     "height": 419
    },
    "executionInfo": {
     "elapsed": 4242,
     "status": "ok",
     "timestamp": 1645291301971,
     "user": {
      "displayName": "Evans Wahome",
      "photoUrl": "https://lh3.googleusercontent.com/a-/AOh14GgtGQy5zpZyCNAdthevqEvgwq2X6Md3SBA7TJwkaZw=s64",
      "userId": "07110523678777241001"
     },
     "user_tz": 0
    },
    "id": "Dko8zlLSUfZG",
    "outputId": "9f9ed317-0f80-4238-f526-3090e6d84f70"
   },
   "outputs": [
    {
     "data": {
      "text/html": [
       "<div>\n",
       "<style scoped>\n",
       "    .dataframe tbody tr th:only-of-type {\n",
       "        vertical-align: middle;\n",
       "    }\n",
       "\n",
       "    .dataframe tbody tr th {\n",
       "        vertical-align: top;\n",
       "    }\n",
       "\n",
       "    .dataframe thead th {\n",
       "        text-align: right;\n",
       "    }\n",
       "</style>\n",
       "<table border=\"1\" class=\"dataframe\">\n",
       "  <thead>\n",
       "    <tr style=\"text-align: right;\">\n",
       "      <th></th>\n",
       "      <th>userId</th>\n",
       "      <th>movieId</th>\n",
       "      <th>rating</th>\n",
       "      <th>timestamp</th>\n",
       "      <th>title</th>\n",
       "    </tr>\n",
       "  </thead>\n",
       "  <tbody>\n",
       "    <tr>\n",
       "      <th>0</th>\n",
       "      <td>1</td>\n",
       "      <td>1371</td>\n",
       "      <td>2.5</td>\n",
       "      <td>1260759135</td>\n",
       "      <td>Rocky III</td>\n",
       "    </tr>\n",
       "    <tr>\n",
       "      <th>1</th>\n",
       "      <td>4</td>\n",
       "      <td>1371</td>\n",
       "      <td>4.0</td>\n",
       "      <td>949810302</td>\n",
       "      <td>Rocky III</td>\n",
       "    </tr>\n",
       "    <tr>\n",
       "      <th>2</th>\n",
       "      <td>7</td>\n",
       "      <td>1371</td>\n",
       "      <td>3.0</td>\n",
       "      <td>851869160</td>\n",
       "      <td>Rocky III</td>\n",
       "    </tr>\n",
       "    <tr>\n",
       "      <th>3</th>\n",
       "      <td>19</td>\n",
       "      <td>1371</td>\n",
       "      <td>4.0</td>\n",
       "      <td>855193404</td>\n",
       "      <td>Rocky III</td>\n",
       "    </tr>\n",
       "    <tr>\n",
       "      <th>4</th>\n",
       "      <td>21</td>\n",
       "      <td>1371</td>\n",
       "      <td>3.0</td>\n",
       "      <td>853852263</td>\n",
       "      <td>Rocky III</td>\n",
       "    </tr>\n",
       "    <tr>\n",
       "      <th>...</th>\n",
       "      <td>...</td>\n",
       "      <td>...</td>\n",
       "      <td>...</td>\n",
       "      <td>...</td>\n",
       "      <td>...</td>\n",
       "    </tr>\n",
       "    <tr>\n",
       "      <th>44989</th>\n",
       "      <td>652</td>\n",
       "      <td>129009</td>\n",
       "      <td>4.0</td>\n",
       "      <td>1442690827</td>\n",
       "      <td>Love Is a Ball</td>\n",
       "    </tr>\n",
       "    <tr>\n",
       "      <th>44990</th>\n",
       "      <td>653</td>\n",
       "      <td>2103</td>\n",
       "      <td>3.0</td>\n",
       "      <td>948161066</td>\n",
       "      <td>Solaris</td>\n",
       "    </tr>\n",
       "    <tr>\n",
       "      <th>44991</th>\n",
       "      <td>659</td>\n",
       "      <td>167</td>\n",
       "      <td>4.0</td>\n",
       "      <td>836137550</td>\n",
       "      <td>K-PAX</td>\n",
       "    </tr>\n",
       "    <tr>\n",
       "      <th>44992</th>\n",
       "      <td>659</td>\n",
       "      <td>563</td>\n",
       "      <td>3.0</td>\n",
       "      <td>834694187</td>\n",
       "      <td>Starship Troopers</td>\n",
       "    </tr>\n",
       "    <tr>\n",
       "      <th>44993</th>\n",
       "      <td>665</td>\n",
       "      <td>129</td>\n",
       "      <td>3.0</td>\n",
       "      <td>995232528</td>\n",
       "      <td>千と千尋の神隠し</td>\n",
       "    </tr>\n",
       "  </tbody>\n",
       "</table>\n",
       "<p>44994 rows × 5 columns</p>\n",
       "</div>"
      ],
      "text/plain": [
       "       userId  movieId  rating   timestamp              title\n",
       "0           1     1371     2.5  1260759135          Rocky III\n",
       "1           4     1371     4.0   949810302          Rocky III\n",
       "2           7     1371     3.0   851869160          Rocky III\n",
       "3          19     1371     4.0   855193404          Rocky III\n",
       "4          21     1371     3.0   853852263          Rocky III\n",
       "...       ...      ...     ...         ...                ...\n",
       "44989     652   129009     4.0  1442690827     Love Is a Ball\n",
       "44990     653     2103     3.0   948161066            Solaris\n",
       "44991     659      167     4.0   836137550              K-PAX\n",
       "44992     659      563     3.0   834694187  Starship Troopers\n",
       "44993     665      129     3.0   995232528           千と千尋の神隠し\n",
       "\n",
       "[44994 rows x 5 columns]"
      ]
     },
     "execution_count": 44,
     "metadata": {},
     "output_type": "execute_result"
    }
   ],
   "source": [
    "df = pd.merge(df,movie_titles,on='movieId')\n",
    "df"
   ]
  },
  {
   "cell_type": "code",
   "execution_count": 98,
   "metadata": {},
   "outputs": [
    {
     "data": {
      "text/plain": [
       "<AxesSubplot:>"
      ]
     },
     "execution_count": 98,
     "metadata": {},
     "output_type": "execute_result"
    },
    {
     "data": {
      "image/png": "[encoded data removed]",
      "text/plain": [
       "<Figure size 432x288 with 2 Axes>"
      ]
     },
     "metadata": {
      "needs_background": "light"
     },
     "output_type": "display_data"
    }
   ],
   "source": [
    "sns.heatmap(df.corr(), \n",
    "        xticklabels=df.corr().columns,\n",
    "        yticklabels=df.corr().columns)"
   ]
  },
  {
   "cell_type": "markdown",
   "metadata": {
    "id": "17jCHpL0UfZH"
   },
   "source": [
    "# EDA\n",
    "\n",
    "Let's explore the data a bit and get a look at some of the best rated movies.\n",
    "\n",
    "## Visualization Imports"
   ]
  },
  {
   "cell_type": "code",
   "execution_count": 45,
   "metadata": {
    "executionInfo": {
     "elapsed": 382,
     "status": "ok",
     "timestamp": 1645291305239,
     "user": {
      "displayName": "Evans Wahome",
      "photoUrl": "https://lh3.googleusercontent.com/a-/AOh14GgtGQy5zpZyCNAdthevqEvgwq2X6Md3SBA7TJwkaZw=s64",
      "userId": "07110523678777241001"
     },
     "user_tz": 0
    },
    "id": "tIG4o2JyUfZH"
   },
   "outputs": [],
   "source": [
    "import matplotlib.pyplot as plt\n",
    "import seaborn as sns\n",
    "sns.set_style('white')\n",
    "%matplotlib inline"
   ]
  },
  {
   "cell_type": "markdown",
   "metadata": {
    "id": "mV9_oSqzUfZI"
   },
   "source": [
    "Let's create a ratings dataframe with average rating and number of ratings:"
   ]
  },
  {
   "cell_type": "code",
   "execution_count": 46,
   "metadata": {
    "colab": {
     "base_uri": "https://localhost:8080/",
     "height": 419
    },
    "executionInfo": {
     "elapsed": 317,
     "status": "ok",
     "timestamp": 1645291309750,
     "user": {
      "displayName": "Evans Wahome",
      "photoUrl": "https://lh3.googleusercontent.com/a-/AOh14GgtGQy5zpZyCNAdthevqEvgwq2X6Md3SBA7TJwkaZw=s64",
      "userId": "07110523678777241001"
     },
     "user_tz": 0
    },
    "id": "aI5kQyrAt6EH",
    "outputId": "512a00d9-a519-44bf-e8f5-e65e5593330c"
   },
   "outputs": [
    {
     "data": {
      "text/html": [
       "<div>\n",
       "<style scoped>\n",
       "    .dataframe tbody tr th:only-of-type {\n",
       "        vertical-align: middle;\n",
       "    }\n",
       "\n",
       "    .dataframe tbody tr th {\n",
       "        vertical-align: top;\n",
       "    }\n",
       "\n",
       "    .dataframe thead th {\n",
       "        text-align: right;\n",
       "    }\n",
       "</style>\n",
       "<table border=\"1\" class=\"dataframe\">\n",
       "  <thead>\n",
       "    <tr style=\"text-align: right;\">\n",
       "      <th></th>\n",
       "      <th>userId</th>\n",
       "      <th>movieId</th>\n",
       "      <th>rating</th>\n",
       "      <th>timestamp</th>\n",
       "      <th>title</th>\n",
       "    </tr>\n",
       "  </thead>\n",
       "  <tbody>\n",
       "    <tr>\n",
       "      <th>0</th>\n",
       "      <td>1</td>\n",
       "      <td>1371</td>\n",
       "      <td>2.5</td>\n",
       "      <td>1260759135</td>\n",
       "      <td>Rocky III</td>\n",
       "    </tr>\n",
       "    <tr>\n",
       "      <th>1</th>\n",
       "      <td>4</td>\n",
       "      <td>1371</td>\n",
       "      <td>4.0</td>\n",
       "      <td>949810302</td>\n",
       "      <td>Rocky III</td>\n",
       "    </tr>\n",
       "    <tr>\n",
       "      <th>2</th>\n",
       "      <td>7</td>\n",
       "      <td>1371</td>\n",
       "      <td>3.0</td>\n",
       "      <td>851869160</td>\n",
       "      <td>Rocky III</td>\n",
       "    </tr>\n",
       "    <tr>\n",
       "      <th>3</th>\n",
       "      <td>19</td>\n",
       "      <td>1371</td>\n",
       "      <td>4.0</td>\n",
       "      <td>855193404</td>\n",
       "      <td>Rocky III</td>\n",
       "    </tr>\n",
       "    <tr>\n",
       "      <th>4</th>\n",
       "      <td>21</td>\n",
       "      <td>1371</td>\n",
       "      <td>3.0</td>\n",
       "      <td>853852263</td>\n",
       "      <td>Rocky III</td>\n",
       "    </tr>\n",
       "    <tr>\n",
       "      <th>...</th>\n",
       "      <td>...</td>\n",
       "      <td>...</td>\n",
       "      <td>...</td>\n",
       "      <td>...</td>\n",
       "      <td>...</td>\n",
       "    </tr>\n",
       "    <tr>\n",
       "      <th>44989</th>\n",
       "      <td>652</td>\n",
       "      <td>129009</td>\n",
       "      <td>4.0</td>\n",
       "      <td>1442690827</td>\n",
       "      <td>Love Is a Ball</td>\n",
       "    </tr>\n",
       "    <tr>\n",
       "      <th>44990</th>\n",
       "      <td>653</td>\n",
       "      <td>2103</td>\n",
       "      <td>3.0</td>\n",
       "      <td>948161066</td>\n",
       "      <td>Solaris</td>\n",
       "    </tr>\n",
       "    <tr>\n",
       "      <th>44991</th>\n",
       "      <td>659</td>\n",
       "      <td>167</td>\n",
       "      <td>4.0</td>\n",
       "      <td>836137550</td>\n",
       "      <td>K-PAX</td>\n",
       "    </tr>\n",
       "    <tr>\n",
       "      <th>44992</th>\n",
       "      <td>659</td>\n",
       "      <td>563</td>\n",
       "      <td>3.0</td>\n",
       "      <td>834694187</td>\n",
       "      <td>Starship Troopers</td>\n",
       "    </tr>\n",
       "    <tr>\n",
       "      <th>44993</th>\n",
       "      <td>665</td>\n",
       "      <td>129</td>\n",
       "      <td>3.0</td>\n",
       "      <td>995232528</td>\n",
       "      <td>千と千尋の神隠し</td>\n",
       "    </tr>\n",
       "  </tbody>\n",
       "</table>\n",
       "<p>44994 rows × 5 columns</p>\n",
       "</div>"
      ],
      "text/plain": [
       "       userId  movieId  rating   timestamp              title\n",
       "0           1     1371     2.5  1260759135          Rocky III\n",
       "1           4     1371     4.0   949810302          Rocky III\n",
       "2           7     1371     3.0   851869160          Rocky III\n",
       "3          19     1371     4.0   855193404          Rocky III\n",
       "4          21     1371     3.0   853852263          Rocky III\n",
       "...       ...      ...     ...         ...                ...\n",
       "44989     652   129009     4.0  1442690827     Love Is a Ball\n",
       "44990     653     2103     3.0   948161066            Solaris\n",
       "44991     659      167     4.0   836137550              K-PAX\n",
       "44992     659      563     3.0   834694187  Starship Troopers\n",
       "44993     665      129     3.0   995232528           千と千尋の神隠し\n",
       "\n",
       "[44994 rows x 5 columns]"
      ]
     },
     "execution_count": 46,
     "metadata": {},
     "output_type": "execute_result"
    }
   ],
   "source": [
    "df"
   ]
  },
  {
   "cell_type": "code",
   "execution_count": 47,
   "metadata": {
    "colab": {
     "base_uri": "https://localhost:8080/"
    },
    "executionInfo": {
     "elapsed": 1227,
     "status": "ok",
     "timestamp": 1645291315992,
     "user": {
      "displayName": "Evans Wahome",
      "photoUrl": "https://lh3.googleusercontent.com/a-/AOh14GgtGQy5zpZyCNAdthevqEvgwq2X6Md3SBA7TJwkaZw=s64",
      "userId": "07110523678777241001"
     },
     "user_tz": 0
    },
    "id": "9t2FyEKZUfZI",
    "outputId": "27f7ab28-50e2-4ece-a2ee-894c9d30fc71"
   },
   "outputs": [
    {
     "data": {
      "text/plain": [
       "title\n",
       "Gentlemen Prefer Blondes                 5.0\n",
       "Anchorman: The Legend of Ron Burgundy    5.0\n",
       "The Pillow Book                          5.0\n",
       "Once Upon a Time in Mexico               5.0\n",
       "Around the World in Eighty Days          5.0\n",
       "Name: rating, dtype: float64"
      ]
     },
     "execution_count": 47,
     "metadata": {},
     "output_type": "execute_result"
    }
   ],
   "source": [
    "df.groupby('title')['rating'].mean().sort_values(ascending=False).head()"
   ]
  },
  {
   "cell_type": "code",
   "execution_count": 48,
   "metadata": {
    "colab": {
     "base_uri": "https://localhost:8080/"
    },
    "executionInfo": {
     "elapsed": 1009,
     "status": "ok",
     "timestamp": 1645291318044,
     "user": {
      "displayName": "Evans Wahome",
      "photoUrl": "https://lh3.googleusercontent.com/a-/AOh14GgtGQy5zpZyCNAdthevqEvgwq2X6Md3SBA7TJwkaZw=s64",
      "userId": "07110523678777241001"
     },
     "user_tz": 0
    },
    "id": "AIH5438RUfZI",
    "outputId": "10cc41c0-07c1-4a96-d0d8-41d254f7bdc3"
   },
   "outputs": [
    {
     "data": {
      "text/plain": [
       "title\n",
       "Terminator 3: Rise of the Machines    324\n",
       "The Million Dollar Hotel              311\n",
       "Солярис                               304\n",
       "The 39 Steps                          291\n",
       "Monsoon Wedding                       274\n",
       "Name: rating, dtype: int64"
      ]
     },
     "execution_count": 48,
     "metadata": {},
     "output_type": "execute_result"
    }
   ],
   "source": [
    "df.groupby('title')['rating'].count().sort_values(ascending=False).head()"
   ]
  },
  {
   "cell_type": "code",
   "execution_count": 49,
   "metadata": {
    "colab": {
     "base_uri": "https://localhost:8080/",
     "height": 235
    },
    "executionInfo": {
     "elapsed": 1262,
     "status": "ok",
     "timestamp": 1645291323578,
     "user": {
      "displayName": "Evans Wahome",
      "photoUrl": "https://lh3.googleusercontent.com/a-/AOh14GgtGQy5zpZyCNAdthevqEvgwq2X6Md3SBA7TJwkaZw=s64",
      "userId": "07110523678777241001"
     },
     "user_tz": 0
    },
    "id": "i-5b_TuMUfZJ",
    "outputId": "a9d37332-d2ae-41aa-dade-a4ab5245fef8"
   },
   "outputs": [
    {
     "data": {
      "text/html": [
       "<div>\n",
       "<style scoped>\n",
       "    .dataframe tbody tr th:only-of-type {\n",
       "        vertical-align: middle;\n",
       "    }\n",
       "\n",
       "    .dataframe tbody tr th {\n",
       "        vertical-align: top;\n",
       "    }\n",
       "\n",
       "    .dataframe thead th {\n",
       "        text-align: right;\n",
       "    }\n",
       "</style>\n",
       "<table border=\"1\" class=\"dataframe\">\n",
       "  <thead>\n",
       "    <tr style=\"text-align: right;\">\n",
       "      <th></th>\n",
       "      <th>rating</th>\n",
       "    </tr>\n",
       "    <tr>\n",
       "      <th>title</th>\n",
       "      <th></th>\n",
       "    </tr>\n",
       "  </thead>\n",
       "  <tbody>\n",
       "    <tr>\n",
       "      <th>!Women Art Revolution</th>\n",
       "      <td>3.250000</td>\n",
       "    </tr>\n",
       "    <tr>\n",
       "      <th>'Gator Bait</th>\n",
       "      <td>0.500000</td>\n",
       "    </tr>\n",
       "    <tr>\n",
       "      <th>'Twas the Night Before Christmas</th>\n",
       "      <td>4.000000</td>\n",
       "    </tr>\n",
       "    <tr>\n",
       "      <th>...Più forte ragazzi!</th>\n",
       "      <td>3.332317</td>\n",
       "    </tr>\n",
       "    <tr>\n",
       "      <th>00 Schneider - Jagd auf Nihil Baxter</th>\n",
       "      <td>4.000000</td>\n",
       "    </tr>\n",
       "  </tbody>\n",
       "</table>\n",
       "</div>"
      ],
      "text/plain": [
       "                                        rating\n",
       "title                                         \n",
       "!Women Art Revolution                 3.250000\n",
       "'Gator Bait                           0.500000\n",
       "'Twas the Night Before Christmas      4.000000\n",
       "...Più forte ragazzi!                 3.332317\n",
       "00 Schneider - Jagd auf Nihil Baxter  4.000000"
      ]
     },
     "execution_count": 49,
     "metadata": {},
     "output_type": "execute_result"
    }
   ],
   "source": [
    "ratings = pd.DataFrame(df.groupby('title')['rating'].mean())\n",
    "ratings.head()"
   ]
  },
  {
   "cell_type": "markdown",
   "metadata": {
    "id": "8Kk5zMyOUfZJ"
   },
   "source": [
    "Now set the number of ratings column:"
   ]
  },
  {
   "cell_type": "code",
   "execution_count": 50,
   "metadata": {
    "colab": {
     "base_uri": "https://localhost:8080/",
     "height": 235
    },
    "executionInfo": {
     "elapsed": 1230,
     "status": "ok",
     "timestamp": 1645291329200,
     "user": {
      "displayName": "Evans Wahome",
      "photoUrl": "https://lh3.googleusercontent.com/a-/AOh14GgtGQy5zpZyCNAdthevqEvgwq2X6Md3SBA7TJwkaZw=s64",
      "userId": "07110523678777241001"
     },
     "user_tz": 0
    },
    "id": "i6RdYW5HUfZK",
    "outputId": "d80e7926-cbf0-4777-bf1d-62b4255d5088"
   },
   "outputs": [
    {
     "data": {
      "text/html": [
       "<div>\n",
       "<style scoped>\n",
       "    .dataframe tbody tr th:only-of-type {\n",
       "        vertical-align: middle;\n",
       "    }\n",
       "\n",
       "    .dataframe tbody tr th {\n",
       "        vertical-align: top;\n",
       "    }\n",
       "\n",
       "    .dataframe thead th {\n",
       "        text-align: right;\n",
       "    }\n",
       "</style>\n",
       "<table border=\"1\" class=\"dataframe\">\n",
       "  <thead>\n",
       "    <tr style=\"text-align: right;\">\n",
       "      <th></th>\n",
       "      <th>rating</th>\n",
       "      <th>num of ratings</th>\n",
       "    </tr>\n",
       "    <tr>\n",
       "      <th>title</th>\n",
       "      <th></th>\n",
       "      <th></th>\n",
       "    </tr>\n",
       "  </thead>\n",
       "  <tbody>\n",
       "    <tr>\n",
       "      <th>!Women Art Revolution</th>\n",
       "      <td>3.250000</td>\n",
       "      <td>2</td>\n",
       "    </tr>\n",
       "    <tr>\n",
       "      <th>'Gator Bait</th>\n",
       "      <td>0.500000</td>\n",
       "      <td>1</td>\n",
       "    </tr>\n",
       "    <tr>\n",
       "      <th>'Twas the Night Before Christmas</th>\n",
       "      <td>4.000000</td>\n",
       "      <td>2</td>\n",
       "    </tr>\n",
       "    <tr>\n",
       "      <th>...Più forte ragazzi!</th>\n",
       "      <td>3.332317</td>\n",
       "      <td>164</td>\n",
       "    </tr>\n",
       "    <tr>\n",
       "      <th>00 Schneider - Jagd auf Nihil Baxter</th>\n",
       "      <td>4.000000</td>\n",
       "      <td>2</td>\n",
       "    </tr>\n",
       "  </tbody>\n",
       "</table>\n",
       "</div>"
      ],
      "text/plain": [
       "                                        rating  num of ratings\n",
       "title                                                         \n",
       "!Women Art Revolution                 3.250000               2\n",
       "'Gator Bait                           0.500000               1\n",
       "'Twas the Night Before Christmas      4.000000               2\n",
       "...Più forte ragazzi!                 3.332317             164\n",
       "00 Schneider - Jagd auf Nihil Baxter  4.000000               2"
      ]
     },
     "execution_count": 50,
     "metadata": {},
     "output_type": "execute_result"
    }
   ],
   "source": [
    "ratings['num of ratings'] = pd.DataFrame(df.groupby('title')['rating'].count())\n",
    "ratings.head()"
   ]
  },
  {
   "cell_type": "markdown",
   "metadata": {
    "id": "iHTJulINUfZK"
   },
   "source": [
    "Now a few histograms:"
   ]
  },
  {
   "cell_type": "code",
   "execution_count": 51,
   "metadata": {
    "colab": {
     "base_uri": "https://localhost:8080/",
     "height": 282
    },
    "executionInfo": {
     "elapsed": 820,
     "status": "ok",
     "timestamp": 1645291333198,
     "user": {
      "displayName": "Evans Wahome",
      "photoUrl": "https://lh3.googleusercontent.com/a-/AOh14GgtGQy5zpZyCNAdthevqEvgwq2X6Md3SBA7TJwkaZw=s64",
      "userId": "07110523678777241001"
     },
     "user_tz": 0
    },
    "id": "kY43e011UfZK",
    "outputId": "07ceddc3-bb51-4467-e05a-d10888681d4c"
   },
   "outputs": [
    {
     "data": {
      "text/plain": [
       "<AxesSubplot:>"
      ]
     },
     "execution_count": 51,
     "metadata": {},
     "output_type": "execute_result"
    },
    {
     "data": {
      "image/png": "[encoded data removed]",
      "text/plain": [
       "<Figure size 720x288 with 1 Axes>"
      ]
     },
     "metadata": {
      "needs_background": "light"
     },
     "output_type": "display_data"
    }
   ],
   "source": [
    "plt.figure(figsize=(10,4))\n",
    "ratings['num of ratings'].hist(bins=70)"
   ]
  },
  {
   "cell_type": "code",
   "execution_count": 52,
   "metadata": {
    "colab": {
     "base_uri": "https://localhost:8080/",
     "height": 286
    },
    "executionInfo": {
     "elapsed": 634,
     "status": "ok",
     "timestamp": 1645291336150,
     "user": {
      "displayName": "Evans Wahome",
      "photoUrl": "https://lh3.googleusercontent.com/a-/AOh14GgtGQy5zpZyCNAdthevqEvgwq2X6Md3SBA7TJwkaZw=s64",
      "userId": "07110523678777241001"
     },
     "user_tz": 0
    },
    "id": "d8XpsuvyUfZL",
    "outputId": "d7f3b930-716b-4caa-d806-5e51a3e2f37f"
   },
   "outputs": [
    {
     "data": {
      "text/plain": [
       "<AxesSubplot:>"
      ]
     },
     "execution_count": 52,
     "metadata": {},
     "output_type": "execute_result"
    },
    {
     "data": {
      "image/png": "[encoded data removed]",
      "text/plain": [
       "<Figure size 720x288 with 1 Axes>"
      ]
     },
     "metadata": {
      "needs_background": "light"
     },
     "output_type": "display_data"
    }
   ],
   "source": [
    "plt.figure(figsize=(10,4))\n",
    "ratings['rating'].hist(bins=70)"
   ]
  },
  {
   "cell_type": "code",
   "execution_count": 53,
   "metadata": {
    "colab": {
     "base_uri": "https://localhost:8080/",
     "height": 458
    },
    "executionInfo": {
     "elapsed": 5397,
     "status": "ok",
     "timestamp": 1645291344055,
     "user": {
      "displayName": "Evans Wahome",
      "photoUrl": "https://lh3.googleusercontent.com/a-/AOh14GgtGQy5zpZyCNAdthevqEvgwq2X6Md3SBA7TJwkaZw=s64",
      "userId": "07110523678777241001"
     },
     "user_tz": 0
    },
    "id": "xnaJRGFIUfZL",
    "outputId": "de9c7851-5992-4c8c-b28c-d50e1c205294"
   },
   "outputs": [
    {
     "data": {
      "text/plain": [
       "<seaborn.axisgrid.JointGrid at 0x1f8f24f00d0>"
      ]
     },
     "execution_count": 53,
     "metadata": {},
     "output_type": "execute_result"
    },
    {
     "data": {
      "image/png": "[encoded data removed]",
      "text/plain": [
       "<Figure size 432x432 with 3 Axes>"
      ]
     },
     "metadata": {
      "needs_background": "light"
     },
     "output_type": "display_data"
    }
   ],
   "source": [
    "sns.jointplot(x='rating',y='num of ratings',data=ratings,alpha=0.5)"
   ]
  },
  {
   "cell_type": "markdown",
   "metadata": {
    "id": "HTfi2dbXUfZM"
   },
   "source": [
    "Okay! Now that we have a general idea of what the data looks like, let's move on to creating a simple recommendation system:"
   ]
  },
  {
   "cell_type": "markdown",
   "metadata": {
    "id": "szimjXmZUfZM"
   },
   "source": [
    "## Recommending Similar Movies"
   ]
  },
  {
   "cell_type": "markdown",
   "metadata": {
    "id": "FUxQ3U-LUfZM"
   },
   "source": [
    "Now let's create a matrix that has the user ids on one axis and the movie title on another axis. Each cell will then consist of the rating the user gave to that movie. Note there will be a lot of NaN values, because most people have not seen most of the movies."
   ]
  },
  {
   "cell_type": "code",
   "execution_count": 54,
   "metadata": {},
   "outputs": [
    {
     "data": {
      "text/html": [
       "<div>\n",
       "<style scoped>\n",
       "    .dataframe tbody tr th:only-of-type {\n",
       "        vertical-align: middle;\n",
       "    }\n",
       "\n",
       "    .dataframe tbody tr th {\n",
       "        vertical-align: top;\n",
       "    }\n",
       "\n",
       "    .dataframe thead th {\n",
       "        text-align: right;\n",
       "    }\n",
       "</style>\n",
       "<table border=\"1\" class=\"dataframe\">\n",
       "  <thead>\n",
       "    <tr style=\"text-align: right;\">\n",
       "      <th></th>\n",
       "      <th>userId</th>\n",
       "      <th>movieId</th>\n",
       "      <th>rating</th>\n",
       "      <th>timestamp</th>\n",
       "      <th>title</th>\n",
       "    </tr>\n",
       "  </thead>\n",
       "  <tbody>\n",
       "    <tr>\n",
       "      <th>0</th>\n",
       "      <td>1</td>\n",
       "      <td>1371</td>\n",
       "      <td>2.5</td>\n",
       "      <td>1260759135</td>\n",
       "      <td>Rocky III</td>\n",
       "    </tr>\n",
       "    <tr>\n",
       "      <th>1</th>\n",
       "      <td>4</td>\n",
       "      <td>1371</td>\n",
       "      <td>4.0</td>\n",
       "      <td>949810302</td>\n",
       "      <td>Rocky III</td>\n",
       "    </tr>\n",
       "    <tr>\n",
       "      <th>2</th>\n",
       "      <td>7</td>\n",
       "      <td>1371</td>\n",
       "      <td>3.0</td>\n",
       "      <td>851869160</td>\n",
       "      <td>Rocky III</td>\n",
       "    </tr>\n",
       "    <tr>\n",
       "      <th>3</th>\n",
       "      <td>19</td>\n",
       "      <td>1371</td>\n",
       "      <td>4.0</td>\n",
       "      <td>855193404</td>\n",
       "      <td>Rocky III</td>\n",
       "    </tr>\n",
       "    <tr>\n",
       "      <th>4</th>\n",
       "      <td>21</td>\n",
       "      <td>1371</td>\n",
       "      <td>3.0</td>\n",
       "      <td>853852263</td>\n",
       "      <td>Rocky III</td>\n",
       "    </tr>\n",
       "    <tr>\n",
       "      <th>...</th>\n",
       "      <td>...</td>\n",
       "      <td>...</td>\n",
       "      <td>...</td>\n",
       "      <td>...</td>\n",
       "      <td>...</td>\n",
       "    </tr>\n",
       "    <tr>\n",
       "      <th>44989</th>\n",
       "      <td>652</td>\n",
       "      <td>129009</td>\n",
       "      <td>4.0</td>\n",
       "      <td>1442690827</td>\n",
       "      <td>Love Is a Ball</td>\n",
       "    </tr>\n",
       "    <tr>\n",
       "      <th>44990</th>\n",
       "      <td>653</td>\n",
       "      <td>2103</td>\n",
       "      <td>3.0</td>\n",
       "      <td>948161066</td>\n",
       "      <td>Solaris</td>\n",
       "    </tr>\n",
       "    <tr>\n",
       "      <th>44991</th>\n",
       "      <td>659</td>\n",
       "      <td>167</td>\n",
       "      <td>4.0</td>\n",
       "      <td>836137550</td>\n",
       "      <td>K-PAX</td>\n",
       "    </tr>\n",
       "    <tr>\n",
       "      <th>44992</th>\n",
       "      <td>659</td>\n",
       "      <td>563</td>\n",
       "      <td>3.0</td>\n",
       "      <td>834694187</td>\n",
       "      <td>Starship Troopers</td>\n",
       "    </tr>\n",
       "    <tr>\n",
       "      <th>44993</th>\n",
       "      <td>665</td>\n",
       "      <td>129</td>\n",
       "      <td>3.0</td>\n",
       "      <td>995232528</td>\n",
       "      <td>千と千尋の神隠し</td>\n",
       "    </tr>\n",
       "  </tbody>\n",
       "</table>\n",
       "<p>44994 rows × 5 columns</p>\n",
       "</div>"
      ],
      "text/plain": [
       "       userId  movieId  rating   timestamp              title\n",
       "0           1     1371     2.5  1260759135          Rocky III\n",
       "1           4     1371     4.0   949810302          Rocky III\n",
       "2           7     1371     3.0   851869160          Rocky III\n",
       "3          19     1371     4.0   855193404          Rocky III\n",
       "4          21     1371     3.0   853852263          Rocky III\n",
       "...       ...      ...     ...         ...                ...\n",
       "44989     652   129009     4.0  1442690827     Love Is a Ball\n",
       "44990     653     2103     3.0   948161066            Solaris\n",
       "44991     659      167     4.0   836137550              K-PAX\n",
       "44992     659      563     3.0   834694187  Starship Troopers\n",
       "44993     665      129     3.0   995232528           千と千尋の神隠し\n",
       "\n",
       "[44994 rows x 5 columns]"
      ]
     },
     "execution_count": 54,
     "metadata": {},
     "output_type": "execute_result"
    }
   ],
   "source": [
    "df"
   ]
  },
  {
   "cell_type": "code",
   "execution_count": 59,
   "metadata": {
    "id": "m5ZFDkx3UfZM"
   },
   "outputs": [
    {
     "data": {
      "text/html": [
       "<div>\n",
       "<style scoped>\n",
       "    .dataframe tbody tr th:only-of-type {\n",
       "        vertical-align: middle;\n",
       "    }\n",
       "\n",
       "    .dataframe tbody tr th {\n",
       "        vertical-align: top;\n",
       "    }\n",
       "\n",
       "    .dataframe thead th {\n",
       "        text-align: right;\n",
       "    }\n",
       "</style>\n",
       "<table border=\"1\" class=\"dataframe\">\n",
       "  <thead>\n",
       "    <tr style=\"text-align: right;\">\n",
       "      <th>title</th>\n",
       "      <th>!Women Art Revolution</th>\n",
       "      <th>'Gator Bait</th>\n",
       "      <th>'Twas the Night Before Christmas</th>\n",
       "      <th>...Più forte ragazzi!</th>\n",
       "      <th>00 Schneider - Jagd auf Nihil Baxter</th>\n",
       "      <th>10 Items or Less</th>\n",
       "      <th>10 Things I Hate About You</th>\n",
       "      <th>10,000 BC</th>\n",
       "      <th>11'09''01 - September 11</th>\n",
       "      <th>12 + 1</th>\n",
       "      <th>...</th>\n",
       "      <th>사마리아</th>\n",
       "      <th>야수</th>\n",
       "      <th>연가시</th>\n",
       "      <th>오직 그대만</th>\n",
       "      <th>올드보이</th>\n",
       "      <th>장화, 홍련</th>\n",
       "      <th>최종병기 활</th>\n",
       "      <th>친절한 금자씨</th>\n",
       "      <th>해안선</th>\n",
       "      <th>활</th>\n",
       "    </tr>\n",
       "    <tr>\n",
       "      <th>userId</th>\n",
       "      <th></th>\n",
       "      <th></th>\n",
       "      <th></th>\n",
       "      <th></th>\n",
       "      <th></th>\n",
       "      <th></th>\n",
       "      <th></th>\n",
       "      <th></th>\n",
       "      <th></th>\n",
       "      <th></th>\n",
       "      <th></th>\n",
       "      <th></th>\n",
       "      <th></th>\n",
       "      <th></th>\n",
       "      <th></th>\n",
       "      <th></th>\n",
       "      <th></th>\n",
       "      <th></th>\n",
       "      <th></th>\n",
       "      <th></th>\n",
       "      <th></th>\n",
       "    </tr>\n",
       "  </thead>\n",
       "  <tbody>\n",
       "    <tr>\n",
       "      <th>1</th>\n",
       "      <td>NaN</td>\n",
       "      <td>NaN</td>\n",
       "      <td>NaN</td>\n",
       "      <td>NaN</td>\n",
       "      <td>NaN</td>\n",
       "      <td>NaN</td>\n",
       "      <td>NaN</td>\n",
       "      <td>NaN</td>\n",
       "      <td>NaN</td>\n",
       "      <td>NaN</td>\n",
       "      <td>...</td>\n",
       "      <td>NaN</td>\n",
       "      <td>NaN</td>\n",
       "      <td>NaN</td>\n",
       "      <td>NaN</td>\n",
       "      <td>NaN</td>\n",
       "      <td>NaN</td>\n",
       "      <td>NaN</td>\n",
       "      <td>NaN</td>\n",
       "      <td>NaN</td>\n",
       "      <td>NaN</td>\n",
       "    </tr>\n",
       "    <tr>\n",
       "      <th>2</th>\n",
       "      <td>NaN</td>\n",
       "      <td>NaN</td>\n",
       "      <td>NaN</td>\n",
       "      <td>NaN</td>\n",
       "      <td>NaN</td>\n",
       "      <td>NaN</td>\n",
       "      <td>NaN</td>\n",
       "      <td>NaN</td>\n",
       "      <td>NaN</td>\n",
       "      <td>NaN</td>\n",
       "      <td>...</td>\n",
       "      <td>NaN</td>\n",
       "      <td>NaN</td>\n",
       "      <td>NaN</td>\n",
       "      <td>NaN</td>\n",
       "      <td>NaN</td>\n",
       "      <td>NaN</td>\n",
       "      <td>NaN</td>\n",
       "      <td>NaN</td>\n",
       "      <td>NaN</td>\n",
       "      <td>NaN</td>\n",
       "    </tr>\n",
       "    <tr>\n",
       "      <th>3</th>\n",
       "      <td>NaN</td>\n",
       "      <td>NaN</td>\n",
       "      <td>NaN</td>\n",
       "      <td>4.5</td>\n",
       "      <td>NaN</td>\n",
       "      <td>NaN</td>\n",
       "      <td>NaN</td>\n",
       "      <td>NaN</td>\n",
       "      <td>NaN</td>\n",
       "      <td>NaN</td>\n",
       "      <td>...</td>\n",
       "      <td>NaN</td>\n",
       "      <td>NaN</td>\n",
       "      <td>NaN</td>\n",
       "      <td>NaN</td>\n",
       "      <td>NaN</td>\n",
       "      <td>NaN</td>\n",
       "      <td>NaN</td>\n",
       "      <td>NaN</td>\n",
       "      <td>NaN</td>\n",
       "      <td>NaN</td>\n",
       "    </tr>\n",
       "    <tr>\n",
       "      <th>4</th>\n",
       "      <td>NaN</td>\n",
       "      <td>NaN</td>\n",
       "      <td>NaN</td>\n",
       "      <td>NaN</td>\n",
       "      <td>NaN</td>\n",
       "      <td>NaN</td>\n",
       "      <td>NaN</td>\n",
       "      <td>NaN</td>\n",
       "      <td>NaN</td>\n",
       "      <td>NaN</td>\n",
       "      <td>...</td>\n",
       "      <td>NaN</td>\n",
       "      <td>NaN</td>\n",
       "      <td>NaN</td>\n",
       "      <td>NaN</td>\n",
       "      <td>NaN</td>\n",
       "      <td>NaN</td>\n",
       "      <td>NaN</td>\n",
       "      <td>NaN</td>\n",
       "      <td>NaN</td>\n",
       "      <td>NaN</td>\n",
       "    </tr>\n",
       "    <tr>\n",
       "      <th>5</th>\n",
       "      <td>NaN</td>\n",
       "      <td>NaN</td>\n",
       "      <td>NaN</td>\n",
       "      <td>4.0</td>\n",
       "      <td>NaN</td>\n",
       "      <td>NaN</td>\n",
       "      <td>NaN</td>\n",
       "      <td>NaN</td>\n",
       "      <td>NaN</td>\n",
       "      <td>NaN</td>\n",
       "      <td>...</td>\n",
       "      <td>NaN</td>\n",
       "      <td>NaN</td>\n",
       "      <td>NaN</td>\n",
       "      <td>NaN</td>\n",
       "      <td>NaN</td>\n",
       "      <td>NaN</td>\n",
       "      <td>NaN</td>\n",
       "      <td>NaN</td>\n",
       "      <td>NaN</td>\n",
       "      <td>NaN</td>\n",
       "    </tr>\n",
       "    <tr>\n",
       "      <th>6</th>\n",
       "      <td>NaN</td>\n",
       "      <td>NaN</td>\n",
       "      <td>NaN</td>\n",
       "      <td>NaN</td>\n",
       "      <td>NaN</td>\n",
       "      <td>NaN</td>\n",
       "      <td>NaN</td>\n",
       "      <td>NaN</td>\n",
       "      <td>NaN</td>\n",
       "      <td>NaN</td>\n",
       "      <td>...</td>\n",
       "      <td>NaN</td>\n",
       "      <td>NaN</td>\n",
       "      <td>NaN</td>\n",
       "      <td>NaN</td>\n",
       "      <td>NaN</td>\n",
       "      <td>NaN</td>\n",
       "      <td>NaN</td>\n",
       "      <td>NaN</td>\n",
       "      <td>NaN</td>\n",
       "      <td>NaN</td>\n",
       "    </tr>\n",
       "    <tr>\n",
       "      <th>7</th>\n",
       "      <td>NaN</td>\n",
       "      <td>NaN</td>\n",
       "      <td>NaN</td>\n",
       "      <td>NaN</td>\n",
       "      <td>NaN</td>\n",
       "      <td>NaN</td>\n",
       "      <td>NaN</td>\n",
       "      <td>NaN</td>\n",
       "      <td>NaN</td>\n",
       "      <td>NaN</td>\n",
       "      <td>...</td>\n",
       "      <td>NaN</td>\n",
       "      <td>NaN</td>\n",
       "      <td>NaN</td>\n",
       "      <td>NaN</td>\n",
       "      <td>NaN</td>\n",
       "      <td>NaN</td>\n",
       "      <td>NaN</td>\n",
       "      <td>NaN</td>\n",
       "      <td>NaN</td>\n",
       "      <td>NaN</td>\n",
       "    </tr>\n",
       "    <tr>\n",
       "      <th>8</th>\n",
       "      <td>NaN</td>\n",
       "      <td>NaN</td>\n",
       "      <td>NaN</td>\n",
       "      <td>NaN</td>\n",
       "      <td>NaN</td>\n",
       "      <td>NaN</td>\n",
       "      <td>NaN</td>\n",
       "      <td>NaN</td>\n",
       "      <td>NaN</td>\n",
       "      <td>NaN</td>\n",
       "      <td>...</td>\n",
       "      <td>NaN</td>\n",
       "      <td>NaN</td>\n",
       "      <td>NaN</td>\n",
       "      <td>NaN</td>\n",
       "      <td>NaN</td>\n",
       "      <td>NaN</td>\n",
       "      <td>NaN</td>\n",
       "      <td>NaN</td>\n",
       "      <td>NaN</td>\n",
       "      <td>NaN</td>\n",
       "    </tr>\n",
       "    <tr>\n",
       "      <th>9</th>\n",
       "      <td>NaN</td>\n",
       "      <td>NaN</td>\n",
       "      <td>NaN</td>\n",
       "      <td>3.0</td>\n",
       "      <td>NaN</td>\n",
       "      <td>NaN</td>\n",
       "      <td>NaN</td>\n",
       "      <td>NaN</td>\n",
       "      <td>NaN</td>\n",
       "      <td>NaN</td>\n",
       "      <td>...</td>\n",
       "      <td>NaN</td>\n",
       "      <td>NaN</td>\n",
       "      <td>NaN</td>\n",
       "      <td>NaN</td>\n",
       "      <td>NaN</td>\n",
       "      <td>NaN</td>\n",
       "      <td>NaN</td>\n",
       "      <td>NaN</td>\n",
       "      <td>NaN</td>\n",
       "      <td>NaN</td>\n",
       "    </tr>\n",
       "    <tr>\n",
       "      <th>10</th>\n",
       "      <td>NaN</td>\n",
       "      <td>NaN</td>\n",
       "      <td>NaN</td>\n",
       "      <td>NaN</td>\n",
       "      <td>NaN</td>\n",
       "      <td>NaN</td>\n",
       "      <td>NaN</td>\n",
       "      <td>NaN</td>\n",
       "      <td>NaN</td>\n",
       "      <td>NaN</td>\n",
       "      <td>...</td>\n",
       "      <td>NaN</td>\n",
       "      <td>NaN</td>\n",
       "      <td>NaN</td>\n",
       "      <td>NaN</td>\n",
       "      <td>NaN</td>\n",
       "      <td>NaN</td>\n",
       "      <td>NaN</td>\n",
       "      <td>NaN</td>\n",
       "      <td>NaN</td>\n",
       "      <td>NaN</td>\n",
       "    </tr>\n",
       "    <tr>\n",
       "      <th>11</th>\n",
       "      <td>NaN</td>\n",
       "      <td>NaN</td>\n",
       "      <td>NaN</td>\n",
       "      <td>NaN</td>\n",
       "      <td>NaN</td>\n",
       "      <td>NaN</td>\n",
       "      <td>NaN</td>\n",
       "      <td>NaN</td>\n",
       "      <td>NaN</td>\n",
       "      <td>NaN</td>\n",
       "      <td>...</td>\n",
       "      <td>NaN</td>\n",
       "      <td>NaN</td>\n",
       "      <td>NaN</td>\n",
       "      <td>NaN</td>\n",
       "      <td>NaN</td>\n",
       "      <td>NaN</td>\n",
       "      <td>NaN</td>\n",
       "      <td>NaN</td>\n",
       "      <td>NaN</td>\n",
       "      <td>NaN</td>\n",
       "    </tr>\n",
       "    <tr>\n",
       "      <th>12</th>\n",
       "      <td>NaN</td>\n",
       "      <td>NaN</td>\n",
       "      <td>NaN</td>\n",
       "      <td>NaN</td>\n",
       "      <td>NaN</td>\n",
       "      <td>NaN</td>\n",
       "      <td>NaN</td>\n",
       "      <td>NaN</td>\n",
       "      <td>NaN</td>\n",
       "      <td>NaN</td>\n",
       "      <td>...</td>\n",
       "      <td>NaN</td>\n",
       "      <td>NaN</td>\n",
       "      <td>NaN</td>\n",
       "      <td>NaN</td>\n",
       "      <td>NaN</td>\n",
       "      <td>NaN</td>\n",
       "      <td>NaN</td>\n",
       "      <td>NaN</td>\n",
       "      <td>NaN</td>\n",
       "      <td>NaN</td>\n",
       "    </tr>\n",
       "    <tr>\n",
       "      <th>13</th>\n",
       "      <td>NaN</td>\n",
       "      <td>NaN</td>\n",
       "      <td>NaN</td>\n",
       "      <td>NaN</td>\n",
       "      <td>NaN</td>\n",
       "      <td>NaN</td>\n",
       "      <td>NaN</td>\n",
       "      <td>NaN</td>\n",
       "      <td>NaN</td>\n",
       "      <td>NaN</td>\n",
       "      <td>...</td>\n",
       "      <td>NaN</td>\n",
       "      <td>NaN</td>\n",
       "      <td>NaN</td>\n",
       "      <td>NaN</td>\n",
       "      <td>NaN</td>\n",
       "      <td>NaN</td>\n",
       "      <td>NaN</td>\n",
       "      <td>NaN</td>\n",
       "      <td>NaN</td>\n",
       "      <td>NaN</td>\n",
       "    </tr>\n",
       "    <tr>\n",
       "      <th>14</th>\n",
       "      <td>NaN</td>\n",
       "      <td>NaN</td>\n",
       "      <td>NaN</td>\n",
       "      <td>3.0</td>\n",
       "      <td>NaN</td>\n",
       "      <td>NaN</td>\n",
       "      <td>NaN</td>\n",
       "      <td>NaN</td>\n",
       "      <td>NaN</td>\n",
       "      <td>NaN</td>\n",
       "      <td>...</td>\n",
       "      <td>NaN</td>\n",
       "      <td>NaN</td>\n",
       "      <td>NaN</td>\n",
       "      <td>NaN</td>\n",
       "      <td>NaN</td>\n",
       "      <td>NaN</td>\n",
       "      <td>NaN</td>\n",
       "      <td>NaN</td>\n",
       "      <td>NaN</td>\n",
       "      <td>NaN</td>\n",
       "    </tr>\n",
       "    <tr>\n",
       "      <th>15</th>\n",
       "      <td>NaN</td>\n",
       "      <td>0.5</td>\n",
       "      <td>NaN</td>\n",
       "      <td>1.5</td>\n",
       "      <td>NaN</td>\n",
       "      <td>3.0</td>\n",
       "      <td>NaN</td>\n",
       "      <td>NaN</td>\n",
       "      <td>NaN</td>\n",
       "      <td>1.0</td>\n",
       "      <td>...</td>\n",
       "      <td>NaN</td>\n",
       "      <td>NaN</td>\n",
       "      <td>NaN</td>\n",
       "      <td>NaN</td>\n",
       "      <td>NaN</td>\n",
       "      <td>NaN</td>\n",
       "      <td>NaN</td>\n",
       "      <td>NaN</td>\n",
       "      <td>NaN</td>\n",
       "      <td>NaN</td>\n",
       "    </tr>\n",
       "    <tr>\n",
       "      <th>16</th>\n",
       "      <td>NaN</td>\n",
       "      <td>NaN</td>\n",
       "      <td>NaN</td>\n",
       "      <td>NaN</td>\n",
       "      <td>NaN</td>\n",
       "      <td>NaN</td>\n",
       "      <td>NaN</td>\n",
       "      <td>NaN</td>\n",
       "      <td>NaN</td>\n",
       "      <td>NaN</td>\n",
       "      <td>...</td>\n",
       "      <td>NaN</td>\n",
       "      <td>NaN</td>\n",
       "      <td>NaN</td>\n",
       "      <td>NaN</td>\n",
       "      <td>NaN</td>\n",
       "      <td>NaN</td>\n",
       "      <td>NaN</td>\n",
       "      <td>NaN</td>\n",
       "      <td>NaN</td>\n",
       "      <td>NaN</td>\n",
       "    </tr>\n",
       "    <tr>\n",
       "      <th>17</th>\n",
       "      <td>NaN</td>\n",
       "      <td>NaN</td>\n",
       "      <td>NaN</td>\n",
       "      <td>0.5</td>\n",
       "      <td>NaN</td>\n",
       "      <td>NaN</td>\n",
       "      <td>NaN</td>\n",
       "      <td>NaN</td>\n",
       "      <td>NaN</td>\n",
       "      <td>NaN</td>\n",
       "      <td>...</td>\n",
       "      <td>NaN</td>\n",
       "      <td>NaN</td>\n",
       "      <td>NaN</td>\n",
       "      <td>NaN</td>\n",
       "      <td>NaN</td>\n",
       "      <td>4.0</td>\n",
       "      <td>NaN</td>\n",
       "      <td>NaN</td>\n",
       "      <td>NaN</td>\n",
       "      <td>NaN</td>\n",
       "    </tr>\n",
       "    <tr>\n",
       "      <th>18</th>\n",
       "      <td>NaN</td>\n",
       "      <td>NaN</td>\n",
       "      <td>NaN</td>\n",
       "      <td>NaN</td>\n",
       "      <td>NaN</td>\n",
       "      <td>NaN</td>\n",
       "      <td>NaN</td>\n",
       "      <td>NaN</td>\n",
       "      <td>NaN</td>\n",
       "      <td>NaN</td>\n",
       "      <td>...</td>\n",
       "      <td>NaN</td>\n",
       "      <td>NaN</td>\n",
       "      <td>NaN</td>\n",
       "      <td>NaN</td>\n",
       "      <td>NaN</td>\n",
       "      <td>NaN</td>\n",
       "      <td>NaN</td>\n",
       "      <td>NaN</td>\n",
       "      <td>NaN</td>\n",
       "      <td>NaN</td>\n",
       "    </tr>\n",
       "    <tr>\n",
       "      <th>19</th>\n",
       "      <td>NaN</td>\n",
       "      <td>NaN</td>\n",
       "      <td>NaN</td>\n",
       "      <td>NaN</td>\n",
       "      <td>NaN</td>\n",
       "      <td>NaN</td>\n",
       "      <td>NaN</td>\n",
       "      <td>NaN</td>\n",
       "      <td>NaN</td>\n",
       "      <td>NaN</td>\n",
       "      <td>...</td>\n",
       "      <td>NaN</td>\n",
       "      <td>NaN</td>\n",
       "      <td>NaN</td>\n",
       "      <td>NaN</td>\n",
       "      <td>NaN</td>\n",
       "      <td>NaN</td>\n",
       "      <td>NaN</td>\n",
       "      <td>NaN</td>\n",
       "      <td>NaN</td>\n",
       "      <td>NaN</td>\n",
       "    </tr>\n",
       "    <tr>\n",
       "      <th>20</th>\n",
       "      <td>NaN</td>\n",
       "      <td>NaN</td>\n",
       "      <td>NaN</td>\n",
       "      <td>NaN</td>\n",
       "      <td>NaN</td>\n",
       "      <td>NaN</td>\n",
       "      <td>NaN</td>\n",
       "      <td>NaN</td>\n",
       "      <td>NaN</td>\n",
       "      <td>NaN</td>\n",
       "      <td>...</td>\n",
       "      <td>NaN</td>\n",
       "      <td>NaN</td>\n",
       "      <td>NaN</td>\n",
       "      <td>NaN</td>\n",
       "      <td>NaN</td>\n",
       "      <td>NaN</td>\n",
       "      <td>NaN</td>\n",
       "      <td>NaN</td>\n",
       "      <td>NaN</td>\n",
       "      <td>NaN</td>\n",
       "    </tr>\n",
       "  </tbody>\n",
       "</table>\n",
       "<p>20 rows × 2798 columns</p>\n",
       "</div>"
      ],
      "text/plain": [
       "title   !Women Art Revolution  'Gator Bait  'Twas the Night Before Christmas  \\\n",
       "userId                                                                         \n",
       "1                         NaN          NaN                               NaN   \n",
       "2                         NaN          NaN                               NaN   \n",
       "3                         NaN          NaN                               NaN   \n",
       "4                         NaN          NaN                               NaN   \n",
       "5                         NaN          NaN                               NaN   \n",
       "6                         NaN          NaN                               NaN   \n",
       "7                         NaN          NaN                               NaN   \n",
       "8                         NaN          NaN                               NaN   \n",
       "9                         NaN          NaN                               NaN   \n",
       "10                        NaN          NaN                               NaN   \n",
       "11                        NaN          NaN                               NaN   \n",
       "12                        NaN          NaN                               NaN   \n",
       "13                        NaN          NaN                               NaN   \n",
       "14                        NaN          NaN                               NaN   \n",
       "15                        NaN          0.5                               NaN   \n",
       "16                        NaN          NaN                               NaN   \n",
       "17                        NaN          NaN                               NaN   \n",
       "18                        NaN          NaN                               NaN   \n",
       "19                        NaN          NaN                               NaN   \n",
       "20                        NaN          NaN                               NaN   \n",
       "\n",
       "title   ...Più forte ragazzi!  00 Schneider - Jagd auf Nihil Baxter  \\\n",
       "userId                                                                \n",
       "1                         NaN                                   NaN   \n",
       "2                         NaN                                   NaN   \n",
       "3                         4.5                                   NaN   \n",
       "4                         NaN                                   NaN   \n",
       "5                         4.0                                   NaN   \n",
       "6                         NaN                                   NaN   \n",
       "7                         NaN                                   NaN   \n",
       "8                         NaN                                   NaN   \n",
       "9                         3.0                                   NaN   \n",
       "10                        NaN                                   NaN   \n",
       "11                        NaN                                   NaN   \n",
       "12                        NaN                                   NaN   \n",
       "13                        NaN                                   NaN   \n",
       "14                        3.0                                   NaN   \n",
       "15                        1.5                                   NaN   \n",
       "16                        NaN                                   NaN   \n",
       "17                        0.5                                   NaN   \n",
       "18                        NaN                                   NaN   \n",
       "19                        NaN                                   NaN   \n",
       "20                        NaN                                   NaN   \n",
       "\n",
       "title   10 Items or Less  10 Things I Hate About You  10,000 BC  \\\n",
       "userId                                                            \n",
       "1                    NaN                         NaN        NaN   \n",
       "2                    NaN                         NaN        NaN   \n",
       "3                    NaN                         NaN        NaN   \n",
       "4                    NaN                         NaN        NaN   \n",
       "5                    NaN                         NaN        NaN   \n",
       "6                    NaN                         NaN        NaN   \n",
       "7                    NaN                         NaN        NaN   \n",
       "8                    NaN                         NaN        NaN   \n",
       "9                    NaN                         NaN        NaN   \n",
       "10                   NaN                         NaN        NaN   \n",
       "11                   NaN                         NaN        NaN   \n",
       "12                   NaN                         NaN        NaN   \n",
       "13                   NaN                         NaN        NaN   \n",
       "14                   NaN                         NaN        NaN   \n",
       "15                   3.0                         NaN        NaN   \n",
       "16                   NaN                         NaN        NaN   \n",
       "17                   NaN                         NaN        NaN   \n",
       "18                   NaN                         NaN        NaN   \n",
       "19                   NaN                         NaN        NaN   \n",
       "20                   NaN                         NaN        NaN   \n",
       "\n",
       "title   11'09''01 - September 11  12 + 1  ...  사마리아  야수  연가시  오직 그대만  올드보이  \\\n",
       "userId                                    ...                                \n",
       "1                            NaN     NaN  ...   NaN NaN  NaN     NaN   NaN   \n",
       "2                            NaN     NaN  ...   NaN NaN  NaN     NaN   NaN   \n",
       "3                            NaN     NaN  ...   NaN NaN  NaN     NaN   NaN   \n",
       "4                            NaN     NaN  ...   NaN NaN  NaN     NaN   NaN   \n",
       "5                            NaN     NaN  ...   NaN NaN  NaN     NaN   NaN   \n",
       "6                            NaN     NaN  ...   NaN NaN  NaN     NaN   NaN   \n",
       "7                            NaN     NaN  ...   NaN NaN  NaN     NaN   NaN   \n",
       "8                            NaN     NaN  ...   NaN NaN  NaN     NaN   NaN   \n",
       "9                            NaN     NaN  ...   NaN NaN  NaN     NaN   NaN   \n",
       "10                           NaN     NaN  ...   NaN NaN  NaN     NaN   NaN   \n",
       "11                           NaN     NaN  ...   NaN NaN  NaN     NaN   NaN   \n",
       "12                           NaN     NaN  ...   NaN NaN  NaN     NaN   NaN   \n",
       "13                           NaN     NaN  ...   NaN NaN  NaN     NaN   NaN   \n",
       "14                           NaN     NaN  ...   NaN NaN  NaN     NaN   NaN   \n",
       "15                           NaN     1.0  ...   NaN NaN  NaN     NaN   NaN   \n",
       "16                           NaN     NaN  ...   NaN NaN  NaN     NaN   NaN   \n",
       "17                           NaN     NaN  ...   NaN NaN  NaN     NaN   NaN   \n",
       "18                           NaN     NaN  ...   NaN NaN  NaN     NaN   NaN   \n",
       "19                           NaN     NaN  ...   NaN NaN  NaN     NaN   NaN   \n",
       "20                           NaN     NaN  ...   NaN NaN  NaN     NaN   NaN   \n",
       "\n",
       "title   장화, 홍련  최종병기 활  친절한 금자씨  해안선   활  \n",
       "userId                                    \n",
       "1          NaN     NaN      NaN  NaN NaN  \n",
       "2          NaN     NaN      NaN  NaN NaN  \n",
       "3          NaN     NaN      NaN  NaN NaN  \n",
       "4          NaN     NaN      NaN  NaN NaN  \n",
       "5          NaN     NaN      NaN  NaN NaN  \n",
       "6          NaN     NaN      NaN  NaN NaN  \n",
       "7          NaN     NaN      NaN  NaN NaN  \n",
       "8          NaN     NaN      NaN  NaN NaN  \n",
       "9          NaN     NaN      NaN  NaN NaN  \n",
       "10         NaN     NaN      NaN  NaN NaN  \n",
       "11         NaN     NaN      NaN  NaN NaN  \n",
       "12         NaN     NaN      NaN  NaN NaN  \n",
       "13         NaN     NaN      NaN  NaN NaN  \n",
       "14         NaN     NaN      NaN  NaN NaN  \n",
       "15         NaN     NaN      NaN  NaN NaN  \n",
       "16         NaN     NaN      NaN  NaN NaN  \n",
       "17         4.0     NaN      NaN  NaN NaN  \n",
       "18         NaN     NaN      NaN  NaN NaN  \n",
       "19         NaN     NaN      NaN  NaN NaN  \n",
       "20         NaN     NaN      NaN  NaN NaN  \n",
       "\n",
       "[20 rows x 2798 columns]"
      ]
     },
     "execution_count": 59,
     "metadata": {},
     "output_type": "execute_result"
    }
   ],
   "source": [
    "moviemat = df.pivot_table(index='userId',columns='title',values='rating')\n",
    "moviemat.head(20)"
   ]
  },
  {
   "cell_type": "markdown",
   "metadata": {
    "id": "pVggu1lHUfZM"
   },
   "source": [
    "Most rated movie:"
   ]
  },
  {
   "cell_type": "code",
   "execution_count": 57,
   "metadata": {
    "executionInfo": {
     "elapsed": 25,
     "status": "aborted",
     "timestamp": 1645289352459,
     "user": {
      "displayName": "Evans Wahome",
      "photoUrl": "https://lh3.googleusercontent.com/a-/AOh14GgtGQy5zpZyCNAdthevqEvgwq2X6Md3SBA7TJwkaZw=s64",
      "userId": "07110523678777241001"
     },
     "user_tz": 0
    },
    "id": "XFuXEspNUfZN"
   },
   "outputs": [
    {
     "data": {
      "text/html": [
       "<div>\n",
       "<style scoped>\n",
       "    .dataframe tbody tr th:only-of-type {\n",
       "        vertical-align: middle;\n",
       "    }\n",
       "\n",
       "    .dataframe tbody tr th {\n",
       "        vertical-align: top;\n",
       "    }\n",
       "\n",
       "    .dataframe thead th {\n",
       "        text-align: right;\n",
       "    }\n",
       "</style>\n",
       "<table border=\"1\" class=\"dataframe\">\n",
       "  <thead>\n",
       "    <tr style=\"text-align: right;\">\n",
       "      <th></th>\n",
       "      <th>rating</th>\n",
       "      <th>num of ratings</th>\n",
       "    </tr>\n",
       "    <tr>\n",
       "      <th>title</th>\n",
       "      <th></th>\n",
       "      <th></th>\n",
       "    </tr>\n",
       "  </thead>\n",
       "  <tbody>\n",
       "    <tr>\n",
       "      <th>Terminator 3: Rise of the Machines</th>\n",
       "      <td>4.256173</td>\n",
       "      <td>324</td>\n",
       "    </tr>\n",
       "    <tr>\n",
       "      <th>The Million Dollar Hotel</th>\n",
       "      <td>4.487138</td>\n",
       "      <td>311</td>\n",
       "    </tr>\n",
       "    <tr>\n",
       "      <th>Солярис</th>\n",
       "      <td>4.138158</td>\n",
       "      <td>304</td>\n",
       "    </tr>\n",
       "    <tr>\n",
       "      <th>The 39 Steps</th>\n",
       "      <td>4.221649</td>\n",
       "      <td>291</td>\n",
       "    </tr>\n",
       "    <tr>\n",
       "      <th>Monsoon Wedding</th>\n",
       "      <td>3.706204</td>\n",
       "      <td>274</td>\n",
       "    </tr>\n",
       "    <tr>\n",
       "      <th>Once Were Warriors</th>\n",
       "      <td>4.303279</td>\n",
       "      <td>244</td>\n",
       "    </tr>\n",
       "    <tr>\n",
       "      <th>Trois couleurs : Rouge</th>\n",
       "      <td>3.945175</td>\n",
       "      <td>228</td>\n",
       "    </tr>\n",
       "    <tr>\n",
       "      <th>Men in Black II</th>\n",
       "      <td>4.256696</td>\n",
       "      <td>224</td>\n",
       "    </tr>\n",
       "    <tr>\n",
       "      <th>La passion de Jeanne d'Arc</th>\n",
       "      <td>3.483945</td>\n",
       "      <td>218</td>\n",
       "    </tr>\n",
       "    <tr>\n",
       "      <th>Silent Hill</th>\n",
       "      <td>3.674419</td>\n",
       "      <td>215</td>\n",
       "    </tr>\n",
       "  </tbody>\n",
       "</table>\n",
       "</div>"
      ],
      "text/plain": [
       "                                      rating  num of ratings\n",
       "title                                                       \n",
       "Terminator 3: Rise of the Machines  4.256173             324\n",
       "The Million Dollar Hotel            4.487138             311\n",
       "Солярис                             4.138158             304\n",
       "The 39 Steps                        4.221649             291\n",
       "Monsoon Wedding                     3.706204             274\n",
       "Once Were Warriors                  4.303279             244\n",
       "Trois couleurs : Rouge              3.945175             228\n",
       "Men in Black II                     4.256696             224\n",
       "La passion de Jeanne d'Arc          3.483945             218\n",
       "Silent Hill                         3.674419             215"
      ]
     },
     "execution_count": 57,
     "metadata": {},
     "output_type": "execute_result"
    }
   ],
   "source": [
    "ratings.sort_values('num of ratings',ascending=False).head(10)"
   ]
  },
  {
   "cell_type": "markdown",
   "metadata": {
    "id": "IHRmapyKUfZN"
   },
   "source": [
    "Let's choose two movies: starwars, a sci-fi movie. And Liar Liar, a comedy."
   ]
  },
  {
   "cell_type": "code",
   "execution_count": 60,
   "metadata": {
    "executionInfo": {
     "elapsed": 25,
     "status": "aborted",
     "timestamp": 1645289352460,
     "user": {
      "displayName": "Evans Wahome",
      "photoUrl": "https://lh3.googleusercontent.com/a-/AOh14GgtGQy5zpZyCNAdthevqEvgwq2X6Md3SBA7TJwkaZw=s64",
      "userId": "07110523678777241001"
     },
     "user_tz": 0
    },
    "id": "TVD74NQoUfZN"
   },
   "outputs": [
    {
     "data": {
      "text/html": [
       "<div>\n",
       "<style scoped>\n",
       "    .dataframe tbody tr th:only-of-type {\n",
       "        vertical-align: middle;\n",
       "    }\n",
       "\n",
       "    .dataframe tbody tr th {\n",
       "        vertical-align: top;\n",
       "    }\n",
       "\n",
       "    .dataframe thead th {\n",
       "        text-align: right;\n",
       "    }\n",
       "</style>\n",
       "<table border=\"1\" class=\"dataframe\">\n",
       "  <thead>\n",
       "    <tr style=\"text-align: right;\">\n",
       "      <th></th>\n",
       "      <th>rating</th>\n",
       "      <th>num of ratings</th>\n",
       "    </tr>\n",
       "    <tr>\n",
       "      <th>title</th>\n",
       "      <th></th>\n",
       "      <th></th>\n",
       "    </tr>\n",
       "  </thead>\n",
       "  <tbody>\n",
       "    <tr>\n",
       "      <th>!Women Art Revolution</th>\n",
       "      <td>3.250000</td>\n",
       "      <td>2</td>\n",
       "    </tr>\n",
       "    <tr>\n",
       "      <th>'Gator Bait</th>\n",
       "      <td>0.500000</td>\n",
       "      <td>1</td>\n",
       "    </tr>\n",
       "    <tr>\n",
       "      <th>'Twas the Night Before Christmas</th>\n",
       "      <td>4.000000</td>\n",
       "      <td>2</td>\n",
       "    </tr>\n",
       "    <tr>\n",
       "      <th>...Più forte ragazzi!</th>\n",
       "      <td>3.332317</td>\n",
       "      <td>164</td>\n",
       "    </tr>\n",
       "    <tr>\n",
       "      <th>00 Schneider - Jagd auf Nihil Baxter</th>\n",
       "      <td>4.000000</td>\n",
       "      <td>2</td>\n",
       "    </tr>\n",
       "  </tbody>\n",
       "</table>\n",
       "</div>"
      ],
      "text/plain": [
       "                                        rating  num of ratings\n",
       "title                                                         \n",
       "!Women Art Revolution                 3.250000               2\n",
       "'Gator Bait                           0.500000               1\n",
       "'Twas the Night Before Christmas      4.000000               2\n",
       "...Più forte ragazzi!                 3.332317             164\n",
       "00 Schneider - Jagd auf Nihil Baxter  4.000000               2"
      ]
     },
     "execution_count": 60,
     "metadata": {},
     "output_type": "execute_result"
    }
   ],
   "source": [
    "ratings.head()"
   ]
  },
  {
   "cell_type": "code",
   "execution_count": 74,
   "metadata": {},
   "outputs": [
    {
     "data": {
      "text/html": [
       "<div>\n",
       "<style scoped>\n",
       "    .dataframe tbody tr th:only-of-type {\n",
       "        vertical-align: middle;\n",
       "    }\n",
       "\n",
       "    .dataframe tbody tr th {\n",
       "        vertical-align: top;\n",
       "    }\n",
       "\n",
       "    .dataframe thead th {\n",
       "        text-align: right;\n",
       "    }\n",
       "</style>\n",
       "<table border=\"1\" class=\"dataframe\">\n",
       "  <thead>\n",
       "    <tr style=\"text-align: right;\">\n",
       "      <th></th>\n",
       "      <th>rating</th>\n",
       "      <th>num of ratings</th>\n",
       "    </tr>\n",
       "    <tr>\n",
       "      <th>title</th>\n",
       "      <th></th>\n",
       "      <th></th>\n",
       "    </tr>\n",
       "  </thead>\n",
       "  <tbody>\n",
       "    <tr>\n",
       "      <th>!Women Art Revolution</th>\n",
       "      <td>3.250000</td>\n",
       "      <td>2</td>\n",
       "    </tr>\n",
       "    <tr>\n",
       "      <th>'Gator Bait</th>\n",
       "      <td>0.500000</td>\n",
       "      <td>1</td>\n",
       "    </tr>\n",
       "    <tr>\n",
       "      <th>'Twas the Night Before Christmas</th>\n",
       "      <td>4.000000</td>\n",
       "      <td>2</td>\n",
       "    </tr>\n",
       "    <tr>\n",
       "      <th>...Più forte ragazzi!</th>\n",
       "      <td>3.332317</td>\n",
       "      <td>164</td>\n",
       "    </tr>\n",
       "    <tr>\n",
       "      <th>00 Schneider - Jagd auf Nihil Baxter</th>\n",
       "      <td>4.000000</td>\n",
       "      <td>2</td>\n",
       "    </tr>\n",
       "    <tr>\n",
       "      <th>...</th>\n",
       "      <td>...</td>\n",
       "      <td>...</td>\n",
       "    </tr>\n",
       "    <tr>\n",
       "      <th>장화, 홍련</th>\n",
       "      <td>4.125000</td>\n",
       "      <td>4</td>\n",
       "    </tr>\n",
       "    <tr>\n",
       "      <th>최종병기 활</th>\n",
       "      <td>2.250000</td>\n",
       "      <td>4</td>\n",
       "    </tr>\n",
       "    <tr>\n",
       "      <th>친절한 금자씨</th>\n",
       "      <td>2.000000</td>\n",
       "      <td>1</td>\n",
       "    </tr>\n",
       "    <tr>\n",
       "      <th>해안선</th>\n",
       "      <td>3.181818</td>\n",
       "      <td>22</td>\n",
       "    </tr>\n",
       "    <tr>\n",
       "      <th>활</th>\n",
       "      <td>4.150000</td>\n",
       "      <td>10</td>\n",
       "    </tr>\n",
       "  </tbody>\n",
       "</table>\n",
       "<p>2798 rows × 2 columns</p>\n",
       "</div>"
      ],
      "text/plain": [
       "                                        rating  num of ratings\n",
       "title                                                         \n",
       "!Women Art Revolution                 3.250000               2\n",
       "'Gator Bait                           0.500000               1\n",
       "'Twas the Night Before Christmas      4.000000               2\n",
       "...Più forte ragazzi!                 3.332317             164\n",
       "00 Schneider - Jagd auf Nihil Baxter  4.000000               2\n",
       "...                                        ...             ...\n",
       "장화, 홍련                                4.125000               4\n",
       "최종병기 활                                2.250000               4\n",
       "친절한 금자씨                               2.000000               1\n",
       "해안선                                   3.181818              22\n",
       "활                                     4.150000              10\n",
       "\n",
       "[2798 rows x 2 columns]"
      ]
     },
     "execution_count": 74,
     "metadata": {},
     "output_type": "execute_result"
    }
   ],
   "source": [
    "ratings"
   ]
  },
  {
   "cell_type": "markdown",
   "metadata": {
    "id": "3F84IqnrUfZN"
   },
   "source": [
    "Now let's grab the user ratings for those two movies:"
   ]
  },
  {
   "cell_type": "code",
   "execution_count": 83,
   "metadata": {
    "executionInfo": {
     "elapsed": 25,
     "status": "aborted",
     "timestamp": 1645289352460,
     "user": {
      "displayName": "Evans Wahome",
      "photoUrl": "https://lh3.googleusercontent.com/a-/AOh14GgtGQy5zpZyCNAdthevqEvgwq2X6Md3SBA7TJwkaZw=s64",
      "userId": "07110523678777241001"
     },
     "user_tz": 0
    },
    "id": "XrS8ISQoUfZN"
   },
   "outputs": [
    {
     "data": {
      "text/plain": [
       "userId\n",
       "1    NaN\n",
       "2    4.0\n",
       "3    4.5\n",
       "4    5.0\n",
       "5    NaN\n",
       "Name: Terminator 3: Rise of the Machines, dtype: float64"
      ]
     },
     "execution_count": 83,
     "metadata": {},
     "output_type": "execute_result"
    }
   ],
   "source": [
    "terminator_user_ratings = moviemat['Terminator 3: Rise of the Machines']\n",
    "terminator_user_ratings.head()"
   ]
  },
  {
   "cell_type": "markdown",
   "metadata": {
    "id": "LxqBf0cUUfZO"
   },
   "source": [
    "We can then use corrwith() method to get correlations between two pandas series:"
   ]
  },
  {
   "cell_type": "code",
   "execution_count": 75,
   "metadata": {
    "executionInfo": {
     "elapsed": 24,
     "status": "aborted",
     "timestamp": 1645289352460,
     "user": {
      "displayName": "Evans Wahome",
      "photoUrl": "https://lh3.googleusercontent.com/a-/AOh14GgtGQy5zpZyCNAdthevqEvgwq2X6Md3SBA7TJwkaZw=s64",
      "userId": "07110523678777241001"
     },
     "user_tz": 0
    },
    "id": "6LZkRTI8UfZO"
   },
   "outputs": [
    {
     "name": "stderr",
     "output_type": "stream",
     "text": [
      "C:\\ProgramData\\Anaconda3\\lib\\site-packages\\numpy\\lib\\function_base.py:2634: RuntimeWarning: Degrees of freedom <= 0 for slice\n",
      "  c = cov(x, y, rowvar, dtype=dtype)\n",
      "C:\\ProgramData\\Anaconda3\\lib\\site-packages\\numpy\\lib\\function_base.py:2493: RuntimeWarning: divide by zero encountered in true_divide\n",
      "  c *= np.true_divide(1, fact)\n"
     ]
    },
    {
     "data": {
      "text/plain": [
       "title\n",
       "!Women Art Revolution                        NaN\n",
       "'Gator Bait                                  NaN\n",
       "'Twas the Night Before Christmas        1.000000\n",
       "...Più forte ragazzi!                  -0.196884\n",
       "00 Schneider - Jagd auf Nihil Baxter    1.000000\n",
       "                                          ...   \n",
       "장화, 홍련                                 -0.814345\n",
       "최종병기 활                                       NaN\n",
       "친절한 금자씨                                      NaN\n",
       "해안선                                    -0.243373\n",
       "활                                      -0.242681\n",
       "Length: 2798, dtype: float64"
      ]
     },
     "execution_count": 75,
     "metadata": {},
     "output_type": "execute_result"
    }
   ],
   "source": [
    "similar_to_terminator = moviemat.corrwith(terminator_user_ratings)\n",
    "similar_to_terminator"
   ]
  },
  {
   "cell_type": "code",
   "execution_count": 99,
   "metadata": {},
   "outputs": [
    {
     "data": {
      "text/html": [
       "<div>\n",
       "<style scoped>\n",
       "    .dataframe tbody tr th:only-of-type {\n",
       "        vertical-align: middle;\n",
       "    }\n",
       "\n",
       "    .dataframe tbody tr th {\n",
       "        vertical-align: top;\n",
       "    }\n",
       "\n",
       "    .dataframe thead th {\n",
       "        text-align: right;\n",
       "    }\n",
       "</style>\n",
       "<table border=\"1\" class=\"dataframe\">\n",
       "  <thead>\n",
       "    <tr style=\"text-align: right;\">\n",
       "      <th>title</th>\n",
       "      <th>!Women Art Revolution</th>\n",
       "      <th>'Gator Bait</th>\n",
       "      <th>'Twas the Night Before Christmas</th>\n",
       "      <th>...Più forte ragazzi!</th>\n",
       "      <th>00 Schneider - Jagd auf Nihil Baxter</th>\n",
       "      <th>10 Items or Less</th>\n",
       "      <th>10 Things I Hate About You</th>\n",
       "      <th>10,000 BC</th>\n",
       "      <th>11'09''01 - September 11</th>\n",
       "      <th>12 + 1</th>\n",
       "      <th>...</th>\n",
       "      <th>사마리아</th>\n",
       "      <th>야수</th>\n",
       "      <th>연가시</th>\n",
       "      <th>오직 그대만</th>\n",
       "      <th>올드보이</th>\n",
       "      <th>장화, 홍련</th>\n",
       "      <th>최종병기 활</th>\n",
       "      <th>친절한 금자씨</th>\n",
       "      <th>해안선</th>\n",
       "      <th>활</th>\n",
       "    </tr>\n",
       "    <tr>\n",
       "      <th>title</th>\n",
       "      <th></th>\n",
       "      <th></th>\n",
       "      <th></th>\n",
       "      <th></th>\n",
       "      <th></th>\n",
       "      <th></th>\n",
       "      <th></th>\n",
       "      <th></th>\n",
       "      <th></th>\n",
       "      <th></th>\n",
       "      <th></th>\n",
       "      <th></th>\n",
       "      <th></th>\n",
       "      <th></th>\n",
       "      <th></th>\n",
       "      <th></th>\n",
       "      <th></th>\n",
       "      <th></th>\n",
       "      <th></th>\n",
       "      <th></th>\n",
       "      <th></th>\n",
       "    </tr>\n",
       "  </thead>\n",
       "  <tbody>\n",
       "    <tr>\n",
       "      <th>!Women Art Revolution</th>\n",
       "      <td>1.0</td>\n",
       "      <td>NaN</td>\n",
       "      <td>NaN</td>\n",
       "      <td>1.000000</td>\n",
       "      <td>NaN</td>\n",
       "      <td>NaN</td>\n",
       "      <td>NaN</td>\n",
       "      <td>NaN</td>\n",
       "      <td>NaN</td>\n",
       "      <td>NaN</td>\n",
       "      <td>...</td>\n",
       "      <td>NaN</td>\n",
       "      <td>NaN</td>\n",
       "      <td>NaN</td>\n",
       "      <td>NaN</td>\n",
       "      <td>NaN</td>\n",
       "      <td>NaN</td>\n",
       "      <td>NaN</td>\n",
       "      <td>NaN</td>\n",
       "      <td>NaN</td>\n",
       "      <td>NaN</td>\n",
       "    </tr>\n",
       "    <tr>\n",
       "      <th>'Gator Bait</th>\n",
       "      <td>NaN</td>\n",
       "      <td>NaN</td>\n",
       "      <td>NaN</td>\n",
       "      <td>NaN</td>\n",
       "      <td>NaN</td>\n",
       "      <td>NaN</td>\n",
       "      <td>NaN</td>\n",
       "      <td>NaN</td>\n",
       "      <td>NaN</td>\n",
       "      <td>NaN</td>\n",
       "      <td>...</td>\n",
       "      <td>NaN</td>\n",
       "      <td>NaN</td>\n",
       "      <td>NaN</td>\n",
       "      <td>NaN</td>\n",
       "      <td>NaN</td>\n",
       "      <td>NaN</td>\n",
       "      <td>NaN</td>\n",
       "      <td>NaN</td>\n",
       "      <td>NaN</td>\n",
       "      <td>NaN</td>\n",
       "    </tr>\n",
       "    <tr>\n",
       "      <th>'Twas the Night Before Christmas</th>\n",
       "      <td>NaN</td>\n",
       "      <td>NaN</td>\n",
       "      <td>1.0</td>\n",
       "      <td>-1.000000</td>\n",
       "      <td>NaN</td>\n",
       "      <td>NaN</td>\n",
       "      <td>NaN</td>\n",
       "      <td>NaN</td>\n",
       "      <td>NaN</td>\n",
       "      <td>NaN</td>\n",
       "      <td>...</td>\n",
       "      <td>NaN</td>\n",
       "      <td>NaN</td>\n",
       "      <td>NaN</td>\n",
       "      <td>NaN</td>\n",
       "      <td>NaN</td>\n",
       "      <td>NaN</td>\n",
       "      <td>NaN</td>\n",
       "      <td>NaN</td>\n",
       "      <td>NaN</td>\n",
       "      <td>NaN</td>\n",
       "    </tr>\n",
       "    <tr>\n",
       "      <th>...Più forte ragazzi!</th>\n",
       "      <td>1.0</td>\n",
       "      <td>NaN</td>\n",
       "      <td>-1.0</td>\n",
       "      <td>1.000000</td>\n",
       "      <td>NaN</td>\n",
       "      <td>0.36051</td>\n",
       "      <td>0.815892</td>\n",
       "      <td>NaN</td>\n",
       "      <td>NaN</td>\n",
       "      <td>-0.14642</td>\n",
       "      <td>...</td>\n",
       "      <td>0.200327</td>\n",
       "      <td>NaN</td>\n",
       "      <td>NaN</td>\n",
       "      <td>-1.0</td>\n",
       "      <td>1.0</td>\n",
       "      <td>NaN</td>\n",
       "      <td>0.5</td>\n",
       "      <td>NaN</td>\n",
       "      <td>-0.064533</td>\n",
       "      <td>-0.112977</td>\n",
       "    </tr>\n",
       "    <tr>\n",
       "      <th>00 Schneider - Jagd auf Nihil Baxter</th>\n",
       "      <td>NaN</td>\n",
       "      <td>NaN</td>\n",
       "      <td>NaN</td>\n",
       "      <td>NaN</td>\n",
       "      <td>1.0</td>\n",
       "      <td>NaN</td>\n",
       "      <td>NaN</td>\n",
       "      <td>NaN</td>\n",
       "      <td>NaN</td>\n",
       "      <td>NaN</td>\n",
       "      <td>...</td>\n",
       "      <td>-1.000000</td>\n",
       "      <td>NaN</td>\n",
       "      <td>NaN</td>\n",
       "      <td>NaN</td>\n",
       "      <td>NaN</td>\n",
       "      <td>NaN</td>\n",
       "      <td>NaN</td>\n",
       "      <td>NaN</td>\n",
       "      <td>NaN</td>\n",
       "      <td>NaN</td>\n",
       "    </tr>\n",
       "    <tr>\n",
       "      <th>...</th>\n",
       "      <td>...</td>\n",
       "      <td>...</td>\n",
       "      <td>...</td>\n",
       "      <td>...</td>\n",
       "      <td>...</td>\n",
       "      <td>...</td>\n",
       "      <td>...</td>\n",
       "      <td>...</td>\n",
       "      <td>...</td>\n",
       "      <td>...</td>\n",
       "      <td>...</td>\n",
       "      <td>...</td>\n",
       "      <td>...</td>\n",
       "      <td>...</td>\n",
       "      <td>...</td>\n",
       "      <td>...</td>\n",
       "      <td>...</td>\n",
       "      <td>...</td>\n",
       "      <td>...</td>\n",
       "      <td>...</td>\n",
       "      <td>...</td>\n",
       "    </tr>\n",
       "    <tr>\n",
       "      <th>장화, 홍련</th>\n",
       "      <td>NaN</td>\n",
       "      <td>NaN</td>\n",
       "      <td>NaN</td>\n",
       "      <td>NaN</td>\n",
       "      <td>NaN</td>\n",
       "      <td>NaN</td>\n",
       "      <td>NaN</td>\n",
       "      <td>NaN</td>\n",
       "      <td>NaN</td>\n",
       "      <td>NaN</td>\n",
       "      <td>...</td>\n",
       "      <td>NaN</td>\n",
       "      <td>NaN</td>\n",
       "      <td>NaN</td>\n",
       "      <td>NaN</td>\n",
       "      <td>NaN</td>\n",
       "      <td>1.0</td>\n",
       "      <td>NaN</td>\n",
       "      <td>NaN</td>\n",
       "      <td>NaN</td>\n",
       "      <td>NaN</td>\n",
       "    </tr>\n",
       "    <tr>\n",
       "      <th>최종병기 활</th>\n",
       "      <td>NaN</td>\n",
       "      <td>NaN</td>\n",
       "      <td>NaN</td>\n",
       "      <td>0.500000</td>\n",
       "      <td>NaN</td>\n",
       "      <td>NaN</td>\n",
       "      <td>NaN</td>\n",
       "      <td>NaN</td>\n",
       "      <td>NaN</td>\n",
       "      <td>NaN</td>\n",
       "      <td>...</td>\n",
       "      <td>NaN</td>\n",
       "      <td>NaN</td>\n",
       "      <td>NaN</td>\n",
       "      <td>NaN</td>\n",
       "      <td>NaN</td>\n",
       "      <td>NaN</td>\n",
       "      <td>1.0</td>\n",
       "      <td>NaN</td>\n",
       "      <td>NaN</td>\n",
       "      <td>NaN</td>\n",
       "    </tr>\n",
       "    <tr>\n",
       "      <th>친절한 금자씨</th>\n",
       "      <td>NaN</td>\n",
       "      <td>NaN</td>\n",
       "      <td>NaN</td>\n",
       "      <td>NaN</td>\n",
       "      <td>NaN</td>\n",
       "      <td>NaN</td>\n",
       "      <td>NaN</td>\n",
       "      <td>NaN</td>\n",
       "      <td>NaN</td>\n",
       "      <td>NaN</td>\n",
       "      <td>...</td>\n",
       "      <td>NaN</td>\n",
       "      <td>NaN</td>\n",
       "      <td>NaN</td>\n",
       "      <td>NaN</td>\n",
       "      <td>NaN</td>\n",
       "      <td>NaN</td>\n",
       "      <td>NaN</td>\n",
       "      <td>NaN</td>\n",
       "      <td>NaN</td>\n",
       "      <td>NaN</td>\n",
       "    </tr>\n",
       "    <tr>\n",
       "      <th>해안선</th>\n",
       "      <td>NaN</td>\n",
       "      <td>NaN</td>\n",
       "      <td>NaN</td>\n",
       "      <td>-0.064533</td>\n",
       "      <td>NaN</td>\n",
       "      <td>-1.00000</td>\n",
       "      <td>NaN</td>\n",
       "      <td>NaN</td>\n",
       "      <td>NaN</td>\n",
       "      <td>1.00000</td>\n",
       "      <td>...</td>\n",
       "      <td>0.755929</td>\n",
       "      <td>NaN</td>\n",
       "      <td>NaN</td>\n",
       "      <td>NaN</td>\n",
       "      <td>NaN</td>\n",
       "      <td>NaN</td>\n",
       "      <td>NaN</td>\n",
       "      <td>NaN</td>\n",
       "      <td>1.000000</td>\n",
       "      <td>0.000000</td>\n",
       "    </tr>\n",
       "    <tr>\n",
       "      <th>활</th>\n",
       "      <td>NaN</td>\n",
       "      <td>NaN</td>\n",
       "      <td>NaN</td>\n",
       "      <td>-0.112977</td>\n",
       "      <td>NaN</td>\n",
       "      <td>1.00000</td>\n",
       "      <td>NaN</td>\n",
       "      <td>1.0</td>\n",
       "      <td>NaN</td>\n",
       "      <td>NaN</td>\n",
       "      <td>...</td>\n",
       "      <td>-0.188982</td>\n",
       "      <td>NaN</td>\n",
       "      <td>NaN</td>\n",
       "      <td>NaN</td>\n",
       "      <td>NaN</td>\n",
       "      <td>NaN</td>\n",
       "      <td>NaN</td>\n",
       "      <td>NaN</td>\n",
       "      <td>0.000000</td>\n",
       "      <td>1.000000</td>\n",
       "    </tr>\n",
       "  </tbody>\n",
       "</table>\n",
       "<p>2798 rows × 2798 columns</p>\n",
       "</div>"
      ],
      "text/plain": [
       "title                                 !Women Art Revolution  'Gator Bait  \\\n",
       "title                                                                      \n",
       "!Women Art Revolution                                   1.0          NaN   \n",
       "'Gator Bait                                             NaN          NaN   \n",
       "'Twas the Night Before Christmas                        NaN          NaN   \n",
       "...Più forte ragazzi!                                   1.0          NaN   \n",
       "00 Schneider - Jagd auf Nihil Baxter                    NaN          NaN   \n",
       "...                                                     ...          ...   \n",
       "장화, 홍련                                                  NaN          NaN   \n",
       "최종병기 활                                                  NaN          NaN   \n",
       "친절한 금자씨                                                 NaN          NaN   \n",
       "해안선                                                     NaN          NaN   \n",
       "활                                                       NaN          NaN   \n",
       "\n",
       "title                                 'Twas the Night Before Christmas  \\\n",
       "title                                                                    \n",
       "!Women Art Revolution                                              NaN   \n",
       "'Gator Bait                                                        NaN   \n",
       "'Twas the Night Before Christmas                                   1.0   \n",
       "...Più forte ragazzi!                                             -1.0   \n",
       "00 Schneider - Jagd auf Nihil Baxter                               NaN   \n",
       "...                                                                ...   \n",
       "장화, 홍련                                                             NaN   \n",
       "최종병기 활                                                             NaN   \n",
       "친절한 금자씨                                                            NaN   \n",
       "해안선                                                                NaN   \n",
       "활                                                                  NaN   \n",
       "\n",
       "title                                 ...Più forte ragazzi!  \\\n",
       "title                                                         \n",
       "!Women Art Revolution                              1.000000   \n",
       "'Gator Bait                                             NaN   \n",
       "'Twas the Night Before Christmas                  -1.000000   \n",
       "...Più forte ragazzi!                              1.000000   \n",
       "00 Schneider - Jagd auf Nihil Baxter                    NaN   \n",
       "...                                                     ...   \n",
       "장화, 홍련                                                  NaN   \n",
       "최종병기 활                                             0.500000   \n",
       "친절한 금자씨                                                 NaN   \n",
       "해안선                                               -0.064533   \n",
       "활                                                 -0.112977   \n",
       "\n",
       "title                                 00 Schneider - Jagd auf Nihil Baxter  \\\n",
       "title                                                                        \n",
       "!Women Art Revolution                                                  NaN   \n",
       "'Gator Bait                                                            NaN   \n",
       "'Twas the Night Before Christmas                                       NaN   \n",
       "...Più forte ragazzi!                                                  NaN   \n",
       "00 Schneider - Jagd auf Nihil Baxter                                   1.0   \n",
       "...                                                                    ...   \n",
       "장화, 홍련                                                                 NaN   \n",
       "최종병기 활                                                                 NaN   \n",
       "친절한 금자씨                                                                NaN   \n",
       "해안선                                                                    NaN   \n",
       "활                                                                      NaN   \n",
       "\n",
       "title                                 10 Items or Less  \\\n",
       "title                                                    \n",
       "!Women Art Revolution                              NaN   \n",
       "'Gator Bait                                        NaN   \n",
       "'Twas the Night Before Christmas                   NaN   \n",
       "...Più forte ragazzi!                          0.36051   \n",
       "00 Schneider - Jagd auf Nihil Baxter               NaN   \n",
       "...                                                ...   \n",
       "장화, 홍련                                             NaN   \n",
       "최종병기 활                                             NaN   \n",
       "친절한 금자씨                                            NaN   \n",
       "해안선                                           -1.00000   \n",
       "활                                              1.00000   \n",
       "\n",
       "title                                 10 Things I Hate About You  10,000 BC  \\\n",
       "title                                                                         \n",
       "!Women Art Revolution                                        NaN        NaN   \n",
       "'Gator Bait                                                  NaN        NaN   \n",
       "'Twas the Night Before Christmas                             NaN        NaN   \n",
       "...Più forte ragazzi!                                   0.815892        NaN   \n",
       "00 Schneider - Jagd auf Nihil Baxter                         NaN        NaN   \n",
       "...                                                          ...        ...   \n",
       "장화, 홍련                                                       NaN        NaN   \n",
       "최종병기 활                                                       NaN        NaN   \n",
       "친절한 금자씨                                                      NaN        NaN   \n",
       "해안선                                                          NaN        NaN   \n",
       "활                                                            NaN        1.0   \n",
       "\n",
       "title                                 11'09''01 - September 11   12 + 1  ...  \\\n",
       "title                                                                    ...   \n",
       "!Women Art Revolution                                      NaN      NaN  ...   \n",
       "'Gator Bait                                                NaN      NaN  ...   \n",
       "'Twas the Night Before Christmas                           NaN      NaN  ...   \n",
       "...Più forte ragazzi!                                      NaN -0.14642  ...   \n",
       "00 Schneider - Jagd auf Nihil Baxter                       NaN      NaN  ...   \n",
       "...                                                        ...      ...  ...   \n",
       "장화, 홍련                                                     NaN      NaN  ...   \n",
       "최종병기 활                                                     NaN      NaN  ...   \n",
       "친절한 금자씨                                                    NaN      NaN  ...   \n",
       "해안선                                                        NaN  1.00000  ...   \n",
       "활                                                          NaN      NaN  ...   \n",
       "\n",
       "title                                     사마리아  야수  연가시  오직 그대만  올드보이  장화, 홍련  \\\n",
       "title                                                                           \n",
       "!Women Art Revolution                      NaN NaN  NaN     NaN   NaN     NaN   \n",
       "'Gator Bait                                NaN NaN  NaN     NaN   NaN     NaN   \n",
       "'Twas the Night Before Christmas           NaN NaN  NaN     NaN   NaN     NaN   \n",
       "...Più forte ragazzi!                 0.200327 NaN  NaN    -1.0   1.0     NaN   \n",
       "00 Schneider - Jagd auf Nihil Baxter -1.000000 NaN  NaN     NaN   NaN     NaN   \n",
       "...                                        ...  ..  ...     ...   ...     ...   \n",
       "장화, 홍련                                     NaN NaN  NaN     NaN   NaN     1.0   \n",
       "최종병기 활                                     NaN NaN  NaN     NaN   NaN     NaN   \n",
       "친절한 금자씨                                    NaN NaN  NaN     NaN   NaN     NaN   \n",
       "해안선                                   0.755929 NaN  NaN     NaN   NaN     NaN   \n",
       "활                                    -0.188982 NaN  NaN     NaN   NaN     NaN   \n",
       "\n",
       "title                                 최종병기 활  친절한 금자씨       해안선         활  \n",
       "title                                                                      \n",
       "!Women Art Revolution                    NaN      NaN       NaN       NaN  \n",
       "'Gator Bait                              NaN      NaN       NaN       NaN  \n",
       "'Twas the Night Before Christmas         NaN      NaN       NaN       NaN  \n",
       "...Più forte ragazzi!                    0.5      NaN -0.064533 -0.112977  \n",
       "00 Schneider - Jagd auf Nihil Baxter     NaN      NaN       NaN       NaN  \n",
       "...                                      ...      ...       ...       ...  \n",
       "장화, 홍련                                   NaN      NaN       NaN       NaN  \n",
       "최종병기 활                                   1.0      NaN       NaN       NaN  \n",
       "친절한 금자씨                                  NaN      NaN       NaN       NaN  \n",
       "해안선                                      NaN      NaN  1.000000  0.000000  \n",
       "활                                        NaN      NaN  0.000000  1.000000  \n",
       "\n",
       "[2798 rows x 2798 columns]"
      ]
     },
     "execution_count": 99,
     "metadata": {},
     "output_type": "execute_result"
    }
   ],
   "source": [
    "corr_mat= moviemat.corr()\n",
    "corr_mat"
   ]
  },
  {
   "cell_type": "markdown",
   "metadata": {
    "id": "NWJVScVeUfZO"
   },
   "source": [
    "Let's clean this by removing NaN values and using a DataFrame instead of a series:"
   ]
  },
  {
   "cell_type": "code",
   "execution_count": 77,
   "metadata": {
    "executionInfo": {
     "elapsed": 25,
     "status": "aborted",
     "timestamp": 1645289352461,
     "user": {
      "displayName": "Evans Wahome",
      "photoUrl": "https://lh3.googleusercontent.com/a-/AOh14GgtGQy5zpZyCNAdthevqEvgwq2X6Md3SBA7TJwkaZw=s64",
      "userId": "07110523678777241001"
     },
     "user_tz": 0
    },
    "id": "cePIb--YUfZO"
   },
   "outputs": [
    {
     "name": "stdout",
     "output_type": "stream",
     "text": [
      "1556\n"
     ]
    },
    {
     "data": {
      "text/html": [
       "<div>\n",
       "<style scoped>\n",
       "    .dataframe tbody tr th:only-of-type {\n",
       "        vertical-align: middle;\n",
       "    }\n",
       "\n",
       "    .dataframe tbody tr th {\n",
       "        vertical-align: top;\n",
       "    }\n",
       "\n",
       "    .dataframe thead th {\n",
       "        text-align: right;\n",
       "    }\n",
       "</style>\n",
       "<table border=\"1\" class=\"dataframe\">\n",
       "  <thead>\n",
       "    <tr style=\"text-align: right;\">\n",
       "      <th></th>\n",
       "      <th>Correlation</th>\n",
       "    </tr>\n",
       "    <tr>\n",
       "      <th>title</th>\n",
       "      <th></th>\n",
       "    </tr>\n",
       "  </thead>\n",
       "  <tbody>\n",
       "    <tr>\n",
       "      <th>'Twas the Night Before Christmas</th>\n",
       "      <td>1.000000</td>\n",
       "    </tr>\n",
       "    <tr>\n",
       "      <th>...Più forte ragazzi!</th>\n",
       "      <td>-0.196884</td>\n",
       "    </tr>\n",
       "    <tr>\n",
       "      <th>00 Schneider - Jagd auf Nihil Baxter</th>\n",
       "      <td>1.000000</td>\n",
       "    </tr>\n",
       "    <tr>\n",
       "      <th>10 Items or Less</th>\n",
       "      <td>-0.361158</td>\n",
       "    </tr>\n",
       "    <tr>\n",
       "      <th>10 Things I Hate About You</th>\n",
       "      <td>0.487316</td>\n",
       "    </tr>\n",
       "  </tbody>\n",
       "</table>\n",
       "</div>"
      ],
      "text/plain": [
       "                                      Correlation\n",
       "title                                            \n",
       "'Twas the Night Before Christmas         1.000000\n",
       "...Più forte ragazzi!                   -0.196884\n",
       "00 Schneider - Jagd auf Nihil Baxter     1.000000\n",
       "10 Items or Less                        -0.361158\n",
       "10 Things I Hate About You               0.487316"
      ]
     },
     "execution_count": 77,
     "metadata": {},
     "output_type": "execute_result"
    }
   ],
   "source": [
    "corr_terminator = pd.DataFrame(similar_to_terminator,columns=['Correlation'])\n",
    "corr_terminator.dropna(inplace=True)\n",
    "print(len(corr_terminator))\n",
    "corr_terminator.head()"
   ]
  },
  {
   "cell_type": "markdown",
   "metadata": {
    "id": "Fh7bPh7vUfZO"
   },
   "source": [
    "Now if we sort the dataframe by correlation, we should get the most similar movies, however note that we get some results that don't really make sense. This is because there are a lot of movies only watched once by users who also watched star wars (it was the most popular movie). "
   ]
  },
  {
   "cell_type": "code",
   "execution_count": 78,
   "metadata": {
    "executionInfo": {
     "elapsed": 24,
     "status": "aborted",
     "timestamp": 1645289352461,
     "user": {
      "displayName": "Evans Wahome",
      "photoUrl": "https://lh3.googleusercontent.com/a-/AOh14GgtGQy5zpZyCNAdthevqEvgwq2X6Md3SBA7TJwkaZw=s64",
      "userId": "07110523678777241001"
     },
     "user_tz": 0
    },
    "id": "fI226sLTUfZP"
   },
   "outputs": [
    {
     "data": {
      "text/html": [
       "<div>\n",
       "<style scoped>\n",
       "    .dataframe tbody tr th:only-of-type {\n",
       "        vertical-align: middle;\n",
       "    }\n",
       "\n",
       "    .dataframe tbody tr th {\n",
       "        vertical-align: top;\n",
       "    }\n",
       "\n",
       "    .dataframe thead th {\n",
       "        text-align: right;\n",
       "    }\n",
       "</style>\n",
       "<table border=\"1\" class=\"dataframe\">\n",
       "  <thead>\n",
       "    <tr style=\"text-align: right;\">\n",
       "      <th></th>\n",
       "      <th>Correlation</th>\n",
       "    </tr>\n",
       "    <tr>\n",
       "      <th>title</th>\n",
       "      <th></th>\n",
       "    </tr>\n",
       "  </thead>\n",
       "  <tbody>\n",
       "    <tr>\n",
       "      <th>Merlin</th>\n",
       "      <td>1.0</td>\n",
       "    </tr>\n",
       "    <tr>\n",
       "      <th>Gomorra</th>\n",
       "      <td>1.0</td>\n",
       "    </tr>\n",
       "    <tr>\n",
       "      <th>La Vie est un long fleuve tranquille</th>\n",
       "      <td>1.0</td>\n",
       "    </tr>\n",
       "    <tr>\n",
       "      <th>Terminator 3: Rise of the Machines</th>\n",
       "      <td>1.0</td>\n",
       "    </tr>\n",
       "    <tr>\n",
       "      <th>Gremlins</th>\n",
       "      <td>1.0</td>\n",
       "    </tr>\n",
       "    <tr>\n",
       "      <th>Still Bill</th>\n",
       "      <td>1.0</td>\n",
       "    </tr>\n",
       "    <tr>\n",
       "      <th>Star Trek: First Contact</th>\n",
       "      <td>1.0</td>\n",
       "    </tr>\n",
       "    <tr>\n",
       "      <th>Absolute Giganten</th>\n",
       "      <td>1.0</td>\n",
       "    </tr>\n",
       "    <tr>\n",
       "      <th>Reflections in a Golden Eye</th>\n",
       "      <td>1.0</td>\n",
       "    </tr>\n",
       "    <tr>\n",
       "      <th>Ice Age</th>\n",
       "      <td>1.0</td>\n",
       "    </tr>\n",
       "  </tbody>\n",
       "</table>\n",
       "</div>"
      ],
      "text/plain": [
       "                                      Correlation\n",
       "title                                            \n",
       "Merlin                                        1.0\n",
       "Gomorra                                       1.0\n",
       "La Vie est un long fleuve tranquille          1.0\n",
       "Terminator 3: Rise of the Machines            1.0\n",
       "Gremlins                                      1.0\n",
       "Still Bill                                    1.0\n",
       "Star Trek: First Contact                      1.0\n",
       "Absolute Giganten                             1.0\n",
       "Reflections in a Golden Eye                   1.0\n",
       "Ice Age                                       1.0"
      ]
     },
     "execution_count": 78,
     "metadata": {},
     "output_type": "execute_result"
    }
   ],
   "source": [
    "corr_terminator.sort_values('Correlation',ascending=False).head(10)"
   ]
  },
  {
   "cell_type": "markdown",
   "metadata": {
    "id": "Uv_z31nxUfZP"
   },
   "source": [
    "Let's fix this by filtering out movies that have less than 100 reviews (this value was chosen based off the histogram from earlier)."
   ]
  },
  {
   "cell_type": "code",
   "execution_count": 79,
   "metadata": {
    "executionInfo": {
     "elapsed": 25,
     "status": "aborted",
     "timestamp": 1645289352462,
     "user": {
      "displayName": "Evans Wahome",
      "photoUrl": "https://lh3.googleusercontent.com/a-/AOh14GgtGQy5zpZyCNAdthevqEvgwq2X6Md3SBA7TJwkaZw=s64",
      "userId": "07110523678777241001"
     },
     "user_tz": 0
    },
    "id": "dcHfUEWuUfZP"
   },
   "outputs": [
    {
     "data": {
      "text/html": [
       "<div>\n",
       "<style scoped>\n",
       "    .dataframe tbody tr th:only-of-type {\n",
       "        vertical-align: middle;\n",
       "    }\n",
       "\n",
       "    .dataframe tbody tr th {\n",
       "        vertical-align: top;\n",
       "    }\n",
       "\n",
       "    .dataframe thead th {\n",
       "        text-align: right;\n",
       "    }\n",
       "</style>\n",
       "<table border=\"1\" class=\"dataframe\">\n",
       "  <thead>\n",
       "    <tr style=\"text-align: right;\">\n",
       "      <th></th>\n",
       "      <th>Correlation</th>\n",
       "      <th>num of ratings</th>\n",
       "    </tr>\n",
       "    <tr>\n",
       "      <th>title</th>\n",
       "      <th></th>\n",
       "      <th></th>\n",
       "    </tr>\n",
       "  </thead>\n",
       "  <tbody>\n",
       "    <tr>\n",
       "      <th>'Twas the Night Before Christmas</th>\n",
       "      <td>1.000000</td>\n",
       "      <td>2</td>\n",
       "    </tr>\n",
       "    <tr>\n",
       "      <th>...Più forte ragazzi!</th>\n",
       "      <td>-0.196884</td>\n",
       "      <td>164</td>\n",
       "    </tr>\n",
       "    <tr>\n",
       "      <th>00 Schneider - Jagd auf Nihil Baxter</th>\n",
       "      <td>1.000000</td>\n",
       "      <td>2</td>\n",
       "    </tr>\n",
       "    <tr>\n",
       "      <th>10 Items or Less</th>\n",
       "      <td>-0.361158</td>\n",
       "      <td>11</td>\n",
       "    </tr>\n",
       "    <tr>\n",
       "      <th>10 Things I Hate About You</th>\n",
       "      <td>0.487316</td>\n",
       "      <td>7</td>\n",
       "    </tr>\n",
       "  </tbody>\n",
       "</table>\n",
       "</div>"
      ],
      "text/plain": [
       "                                      Correlation  num of ratings\n",
       "title                                                            \n",
       "'Twas the Night Before Christmas         1.000000               2\n",
       "...Più forte ragazzi!                   -0.196884             164\n",
       "00 Schneider - Jagd auf Nihil Baxter     1.000000               2\n",
       "10 Items or Less                        -0.361158              11\n",
       "10 Things I Hate About You               0.487316               7"
      ]
     },
     "execution_count": 79,
     "metadata": {},
     "output_type": "execute_result"
    }
   ],
   "source": [
    "corr_starwars = corr_starwars.join(ratings['num of ratings'])\n",
    "corr_starwars.head()"
   ]
  },
  {
   "cell_type": "markdown",
   "metadata": {
    "id": "ivmAFzFUUfZQ"
   },
   "source": [
    "Now sort the values and notice how the titles make a lot more sense:"
   ]
  },
  {
   "cell_type": "code",
   "execution_count": 80,
   "metadata": {
    "executionInfo": {
     "elapsed": 24,
     "status": "aborted",
     "timestamp": 1645289352462,
     "user": {
      "displayName": "Evans Wahome",
      "photoUrl": "https://lh3.googleusercontent.com/a-/AOh14GgtGQy5zpZyCNAdthevqEvgwq2X6Md3SBA7TJwkaZw=s64",
      "userId": "07110523678777241001"
     },
     "user_tz": 0
    },
    "id": "-r_2NkGsUfZQ"
   },
   "outputs": [
    {
     "data": {
      "text/html": [
       "<div>\n",
       "<style scoped>\n",
       "    .dataframe tbody tr th:only-of-type {\n",
       "        vertical-align: middle;\n",
       "    }\n",
       "\n",
       "    .dataframe tbody tr th {\n",
       "        vertical-align: top;\n",
       "    }\n",
       "\n",
       "    .dataframe thead th {\n",
       "        text-align: right;\n",
       "    }\n",
       "</style>\n",
       "<table border=\"1\" class=\"dataframe\">\n",
       "  <thead>\n",
       "    <tr style=\"text-align: right;\">\n",
       "      <th></th>\n",
       "      <th>Correlation</th>\n",
       "      <th>num of ratings</th>\n",
       "    </tr>\n",
       "    <tr>\n",
       "      <th>title</th>\n",
       "      <th></th>\n",
       "      <th></th>\n",
       "    </tr>\n",
       "  </thead>\n",
       "  <tbody>\n",
       "    <tr>\n",
       "      <th>Terminator 3: Rise of the Machines</th>\n",
       "      <td>1.000000</td>\n",
       "      <td>324</td>\n",
       "    </tr>\n",
       "    <tr>\n",
       "      <th>Men in Black II</th>\n",
       "      <td>0.472422</td>\n",
       "      <td>224</td>\n",
       "    </tr>\n",
       "    <tr>\n",
       "      <th>The Thomas Crown Affair</th>\n",
       "      <td>0.446644</td>\n",
       "      <td>179</td>\n",
       "    </tr>\n",
       "    <tr>\n",
       "      <th>Point Break</th>\n",
       "      <td>0.406478</td>\n",
       "      <td>132</td>\n",
       "    </tr>\n",
       "    <tr>\n",
       "      <th>The Man with the Golden Arm</th>\n",
       "      <td>0.356941</td>\n",
       "      <td>146</td>\n",
       "    </tr>\n",
       "  </tbody>\n",
       "</table>\n",
       "</div>"
      ],
      "text/plain": [
       "                                    Correlation  num of ratings\n",
       "title                                                          \n",
       "Terminator 3: Rise of the Machines     1.000000             324\n",
       "Men in Black II                        0.472422             224\n",
       "The Thomas Crown Affair                0.446644             179\n",
       "Point Break                            0.406478             132\n",
       "The Man with the Golden Arm            0.356941             146"
      ]
     },
     "execution_count": 80,
     "metadata": {},
     "output_type": "execute_result"
    }
   ],
   "source": [
    "corr_starwars[corr_starwars['num of ratings']>100].sort_values('Correlation',ascending=False).head()"
   ]
  }
 ],
 "metadata": {
  "colab": {
   "name": "Recommender Systems with Python.ipynb",
   "provenance": []
  },
  "kernelspec": {
   "display_name": "Python 3",
   "language": "python",
   "name": "python3"
  },
  "language_info": {
   "codemirror_mode": {
    "name": "ipython",
    "version": 3
   },
   "file_extension": ".py",
   "mimetype": "text/x-python",
   "name": "python",
   "nbconvert_exporter": "python",
   "pygments_lexer": "ipython3",
   "version": "3.8.8"
  }
 },
 "nbformat": 4,
 "nbformat_minor": 1
}
